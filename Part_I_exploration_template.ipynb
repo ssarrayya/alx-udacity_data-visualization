{
  "cells": [
    {
      "cell_type": "markdown",
      "metadata": {
        "id": "SH-QyP8Vo1MD"
      },
      "source": [
        "# Part I - US 2008 Flights Exploration\n",
        "## by Sarah Akinkunmi\n",
        "\n",
        "## Introduction\n",
        "> This dataset reports flights in the United States, including carriers, arrival and departure delays, and reasons for delays, for year 2008."
      ]
    },
    {
      "cell_type": "markdown",
      "source": [
        "\n",
        "## Preliminary Wrangling"
      ],
      "metadata": {
        "id": "gLHN79rkpyIp"
      }
    },
    {
      "cell_type": "code",
      "execution_count": 2,
      "metadata": {
        "id": "YaBfH8bLo1MI"
      },
      "outputs": [],
      "source": [
        "# import all packages and set plots to be embedded inline\n",
        "import numpy as np\n",
        "import pandas as pd\n",
        "import matplotlib.pyplot as plt\n",
        "import seaborn as sb\n",
        "\n",
        "%matplotlib inline"
      ]
    },
    {
      "cell_type": "code",
      "execution_count": 3,
      "metadata": {
        "colab": {
          "base_uri": "https://localhost:8080/",
          "height": 487
        },
        "id": "2Rc_PC_to1MN",
        "outputId": "197e0478-0194-4feb-d8eb-1f6cbb306a98"
      },
      "outputs": [
        {
          "output_type": "execute_result",
          "data": {
            "text/plain": [
              "         Year  Month  DayofMonth  DayOfWeek  DepTime  CRSDepTime  ArrTime  \\\n",
              "0        2008      1           3          4   1343.0        1325   1451.0   \n",
              "1        2008      1           3          4   1125.0        1120   1247.0   \n",
              "2        2008      1           3          4   2009.0        2015   2136.0   \n",
              "3        2008      1           3          4    903.0         855   1203.0   \n",
              "4        2008      1           3          4   1423.0        1400   1726.0   \n",
              "...       ...    ...         ...        ...      ...         ...      ...   \n",
              "2389212  2008      4          17          4   1025.0        1025   1234.0   \n",
              "2389213  2008      4          17          4   1319.0        1320   1527.0   \n",
              "2389214  2008      4          17          4   1335.0        1335   1556.0   \n",
              "2389215  2008      4          17          4   1933.0        1935   2140.0   \n",
              "2389216  2008      4          17          4    621.0         615    752.0   \n",
              "\n",
              "         CRSArrTime UniqueCarrier  FlightNum  ... TaxiIn  TaxiOut  Cancelled  \\\n",
              "0              1435            WN        588  ...    4.0      9.0          0   \n",
              "1              1245            WN       1343  ...    3.0      8.0          0   \n",
              "2              2140            WN       3841  ...    2.0     14.0          0   \n",
              "3              1205            WN          3  ...    5.0      7.0          0   \n",
              "4              1710            WN         25  ...    6.0     10.0          0   \n",
              "...             ...           ...        ...  ...    ...      ...        ...   \n",
              "2389212        1237            DL       1207  ...    5.0     16.0          0   \n",
              "2389213        1524            DL       1208  ...    9.0     12.0          0   \n",
              "2389214        1553            DL       1209  ...    7.0     31.0          0   \n",
              "2389215        2141            DL       1210  ...    9.0     12.0          0   \n",
              "2389216         754            DL       1211  ...   15.0     12.0          0   \n",
              "\n",
              "         CancellationCode  Diverted  CarrierDelay WeatherDelay NASDelay  \\\n",
              "0                     NaN         0          16.0          0.0      0.0   \n",
              "1                     NaN         0           NaN          NaN      NaN   \n",
              "2                     NaN         0           NaN          NaN      NaN   \n",
              "3                     NaN         0           NaN          NaN      NaN   \n",
              "4                     NaN         0          16.0          0.0      0.0   \n",
              "...                   ...       ...           ...          ...      ...   \n",
              "2389212               NaN         0           NaN          NaN      NaN   \n",
              "2389213               NaN         0           NaN          NaN      NaN   \n",
              "2389214               NaN         0           NaN          NaN      NaN   \n",
              "2389215               NaN         0           NaN          NaN      NaN   \n",
              "2389216               NaN         0           NaN          NaN      NaN   \n",
              "\n",
              "         SecurityDelay  LateAircraftDelay  \n",
              "0                  0.0                0.0  \n",
              "1                  NaN                NaN  \n",
              "2                  NaN                NaN  \n",
              "3                  NaN                NaN  \n",
              "4                  0.0                0.0  \n",
              "...                ...                ...  \n",
              "2389212            NaN                NaN  \n",
              "2389213            NaN                NaN  \n",
              "2389214            NaN                NaN  \n",
              "2389215            NaN                NaN  \n",
              "2389216            NaN                NaN  \n",
              "\n",
              "[2389217 rows x 29 columns]"
            ],
            "text/html": [
              "\n",
              "  <div id=\"df-7c12bac5-4c7e-4b49-9d64-c3af704fb6ad\">\n",
              "    <div class=\"colab-df-container\">\n",
              "      <div>\n",
              "<style scoped>\n",
              "    .dataframe tbody tr th:only-of-type {\n",
              "        vertical-align: middle;\n",
              "    }\n",
              "\n",
              "    .dataframe tbody tr th {\n",
              "        vertical-align: top;\n",
              "    }\n",
              "\n",
              "    .dataframe thead th {\n",
              "        text-align: right;\n",
              "    }\n",
              "</style>\n",
              "<table border=\"1\" class=\"dataframe\">\n",
              "  <thead>\n",
              "    <tr style=\"text-align: right;\">\n",
              "      <th></th>\n",
              "      <th>Year</th>\n",
              "      <th>Month</th>\n",
              "      <th>DayofMonth</th>\n",
              "      <th>DayOfWeek</th>\n",
              "      <th>DepTime</th>\n",
              "      <th>CRSDepTime</th>\n",
              "      <th>ArrTime</th>\n",
              "      <th>CRSArrTime</th>\n",
              "      <th>UniqueCarrier</th>\n",
              "      <th>FlightNum</th>\n",
              "      <th>...</th>\n",
              "      <th>TaxiIn</th>\n",
              "      <th>TaxiOut</th>\n",
              "      <th>Cancelled</th>\n",
              "      <th>CancellationCode</th>\n",
              "      <th>Diverted</th>\n",
              "      <th>CarrierDelay</th>\n",
              "      <th>WeatherDelay</th>\n",
              "      <th>NASDelay</th>\n",
              "      <th>SecurityDelay</th>\n",
              "      <th>LateAircraftDelay</th>\n",
              "    </tr>\n",
              "  </thead>\n",
              "  <tbody>\n",
              "    <tr>\n",
              "      <th>0</th>\n",
              "      <td>2008</td>\n",
              "      <td>1</td>\n",
              "      <td>3</td>\n",
              "      <td>4</td>\n",
              "      <td>1343.0</td>\n",
              "      <td>1325</td>\n",
              "      <td>1451.0</td>\n",
              "      <td>1435</td>\n",
              "      <td>WN</td>\n",
              "      <td>588</td>\n",
              "      <td>...</td>\n",
              "      <td>4.0</td>\n",
              "      <td>9.0</td>\n",
              "      <td>0</td>\n",
              "      <td>NaN</td>\n",
              "      <td>0</td>\n",
              "      <td>16.0</td>\n",
              "      <td>0.0</td>\n",
              "      <td>0.0</td>\n",
              "      <td>0.0</td>\n",
              "      <td>0.0</td>\n",
              "    </tr>\n",
              "    <tr>\n",
              "      <th>1</th>\n",
              "      <td>2008</td>\n",
              "      <td>1</td>\n",
              "      <td>3</td>\n",
              "      <td>4</td>\n",
              "      <td>1125.0</td>\n",
              "      <td>1120</td>\n",
              "      <td>1247.0</td>\n",
              "      <td>1245</td>\n",
              "      <td>WN</td>\n",
              "      <td>1343</td>\n",
              "      <td>...</td>\n",
              "      <td>3.0</td>\n",
              "      <td>8.0</td>\n",
              "      <td>0</td>\n",
              "      <td>NaN</td>\n",
              "      <td>0</td>\n",
              "      <td>NaN</td>\n",
              "      <td>NaN</td>\n",
              "      <td>NaN</td>\n",
              "      <td>NaN</td>\n",
              "      <td>NaN</td>\n",
              "    </tr>\n",
              "    <tr>\n",
              "      <th>2</th>\n",
              "      <td>2008</td>\n",
              "      <td>1</td>\n",
              "      <td>3</td>\n",
              "      <td>4</td>\n",
              "      <td>2009.0</td>\n",
              "      <td>2015</td>\n",
              "      <td>2136.0</td>\n",
              "      <td>2140</td>\n",
              "      <td>WN</td>\n",
              "      <td>3841</td>\n",
              "      <td>...</td>\n",
              "      <td>2.0</td>\n",
              "      <td>14.0</td>\n",
              "      <td>0</td>\n",
              "      <td>NaN</td>\n",
              "      <td>0</td>\n",
              "      <td>NaN</td>\n",
              "      <td>NaN</td>\n",
              "      <td>NaN</td>\n",
              "      <td>NaN</td>\n",
              "      <td>NaN</td>\n",
              "    </tr>\n",
              "    <tr>\n",
              "      <th>3</th>\n",
              "      <td>2008</td>\n",
              "      <td>1</td>\n",
              "      <td>3</td>\n",
              "      <td>4</td>\n",
              "      <td>903.0</td>\n",
              "      <td>855</td>\n",
              "      <td>1203.0</td>\n",
              "      <td>1205</td>\n",
              "      <td>WN</td>\n",
              "      <td>3</td>\n",
              "      <td>...</td>\n",
              "      <td>5.0</td>\n",
              "      <td>7.0</td>\n",
              "      <td>0</td>\n",
              "      <td>NaN</td>\n",
              "      <td>0</td>\n",
              "      <td>NaN</td>\n",
              "      <td>NaN</td>\n",
              "      <td>NaN</td>\n",
              "      <td>NaN</td>\n",
              "      <td>NaN</td>\n",
              "    </tr>\n",
              "    <tr>\n",
              "      <th>4</th>\n",
              "      <td>2008</td>\n",
              "      <td>1</td>\n",
              "      <td>3</td>\n",
              "      <td>4</td>\n",
              "      <td>1423.0</td>\n",
              "      <td>1400</td>\n",
              "      <td>1726.0</td>\n",
              "      <td>1710</td>\n",
              "      <td>WN</td>\n",
              "      <td>25</td>\n",
              "      <td>...</td>\n",
              "      <td>6.0</td>\n",
              "      <td>10.0</td>\n",
              "      <td>0</td>\n",
              "      <td>NaN</td>\n",
              "      <td>0</td>\n",
              "      <td>16.0</td>\n",
              "      <td>0.0</td>\n",
              "      <td>0.0</td>\n",
              "      <td>0.0</td>\n",
              "      <td>0.0</td>\n",
              "    </tr>\n",
              "    <tr>\n",
              "      <th>...</th>\n",
              "      <td>...</td>\n",
              "      <td>...</td>\n",
              "      <td>...</td>\n",
              "      <td>...</td>\n",
              "      <td>...</td>\n",
              "      <td>...</td>\n",
              "      <td>...</td>\n",
              "      <td>...</td>\n",
              "      <td>...</td>\n",
              "      <td>...</td>\n",
              "      <td>...</td>\n",
              "      <td>...</td>\n",
              "      <td>...</td>\n",
              "      <td>...</td>\n",
              "      <td>...</td>\n",
              "      <td>...</td>\n",
              "      <td>...</td>\n",
              "      <td>...</td>\n",
              "      <td>...</td>\n",
              "      <td>...</td>\n",
              "      <td>...</td>\n",
              "    </tr>\n",
              "    <tr>\n",
              "      <th>2389212</th>\n",
              "      <td>2008</td>\n",
              "      <td>4</td>\n",
              "      <td>17</td>\n",
              "      <td>4</td>\n",
              "      <td>1025.0</td>\n",
              "      <td>1025</td>\n",
              "      <td>1234.0</td>\n",
              "      <td>1237</td>\n",
              "      <td>DL</td>\n",
              "      <td>1207</td>\n",
              "      <td>...</td>\n",
              "      <td>5.0</td>\n",
              "      <td>16.0</td>\n",
              "      <td>0</td>\n",
              "      <td>NaN</td>\n",
              "      <td>0</td>\n",
              "      <td>NaN</td>\n",
              "      <td>NaN</td>\n",
              "      <td>NaN</td>\n",
              "      <td>NaN</td>\n",
              "      <td>NaN</td>\n",
              "    </tr>\n",
              "    <tr>\n",
              "      <th>2389213</th>\n",
              "      <td>2008</td>\n",
              "      <td>4</td>\n",
              "      <td>17</td>\n",
              "      <td>4</td>\n",
              "      <td>1319.0</td>\n",
              "      <td>1320</td>\n",
              "      <td>1527.0</td>\n",
              "      <td>1524</td>\n",
              "      <td>DL</td>\n",
              "      <td>1208</td>\n",
              "      <td>...</td>\n",
              "      <td>9.0</td>\n",
              "      <td>12.0</td>\n",
              "      <td>0</td>\n",
              "      <td>NaN</td>\n",
              "      <td>0</td>\n",
              "      <td>NaN</td>\n",
              "      <td>NaN</td>\n",
              "      <td>NaN</td>\n",
              "      <td>NaN</td>\n",
              "      <td>NaN</td>\n",
              "    </tr>\n",
              "    <tr>\n",
              "      <th>2389214</th>\n",
              "      <td>2008</td>\n",
              "      <td>4</td>\n",
              "      <td>17</td>\n",
              "      <td>4</td>\n",
              "      <td>1335.0</td>\n",
              "      <td>1335</td>\n",
              "      <td>1556.0</td>\n",
              "      <td>1553</td>\n",
              "      <td>DL</td>\n",
              "      <td>1209</td>\n",
              "      <td>...</td>\n",
              "      <td>7.0</td>\n",
              "      <td>31.0</td>\n",
              "      <td>0</td>\n",
              "      <td>NaN</td>\n",
              "      <td>0</td>\n",
              "      <td>NaN</td>\n",
              "      <td>NaN</td>\n",
              "      <td>NaN</td>\n",
              "      <td>NaN</td>\n",
              "      <td>NaN</td>\n",
              "    </tr>\n",
              "    <tr>\n",
              "      <th>2389215</th>\n",
              "      <td>2008</td>\n",
              "      <td>4</td>\n",
              "      <td>17</td>\n",
              "      <td>4</td>\n",
              "      <td>1933.0</td>\n",
              "      <td>1935</td>\n",
              "      <td>2140.0</td>\n",
              "      <td>2141</td>\n",
              "      <td>DL</td>\n",
              "      <td>1210</td>\n",
              "      <td>...</td>\n",
              "      <td>9.0</td>\n",
              "      <td>12.0</td>\n",
              "      <td>0</td>\n",
              "      <td>NaN</td>\n",
              "      <td>0</td>\n",
              "      <td>NaN</td>\n",
              "      <td>NaN</td>\n",
              "      <td>NaN</td>\n",
              "      <td>NaN</td>\n",
              "      <td>NaN</td>\n",
              "    </tr>\n",
              "    <tr>\n",
              "      <th>2389216</th>\n",
              "      <td>2008</td>\n",
              "      <td>4</td>\n",
              "      <td>17</td>\n",
              "      <td>4</td>\n",
              "      <td>621.0</td>\n",
              "      <td>615</td>\n",
              "      <td>752.0</td>\n",
              "      <td>754</td>\n",
              "      <td>DL</td>\n",
              "      <td>1211</td>\n",
              "      <td>...</td>\n",
              "      <td>15.0</td>\n",
              "      <td>12.0</td>\n",
              "      <td>0</td>\n",
              "      <td>NaN</td>\n",
              "      <td>0</td>\n",
              "      <td>NaN</td>\n",
              "      <td>NaN</td>\n",
              "      <td>NaN</td>\n",
              "      <td>NaN</td>\n",
              "      <td>NaN</td>\n",
              "    </tr>\n",
              "  </tbody>\n",
              "</table>\n",
              "<p>2389217 rows × 29 columns</p>\n",
              "</div>\n",
              "      <button class=\"colab-df-convert\" onclick=\"convertToInteractive('df-7c12bac5-4c7e-4b49-9d64-c3af704fb6ad')\"\n",
              "              title=\"Convert this dataframe to an interactive table.\"\n",
              "              style=\"display:none;\">\n",
              "        \n",
              "  <svg xmlns=\"http://www.w3.org/2000/svg\" height=\"24px\"viewBox=\"0 0 24 24\"\n",
              "       width=\"24px\">\n",
              "    <path d=\"M0 0h24v24H0V0z\" fill=\"none\"/>\n",
              "    <path d=\"M18.56 5.44l.94 2.06.94-2.06 2.06-.94-2.06-.94-.94-2.06-.94 2.06-2.06.94zm-11 1L8.5 8.5l.94-2.06 2.06-.94-2.06-.94L8.5 2.5l-.94 2.06-2.06.94zm10 10l.94 2.06.94-2.06 2.06-.94-2.06-.94-.94-2.06-.94 2.06-2.06.94z\"/><path d=\"M17.41 7.96l-1.37-1.37c-.4-.4-.92-.59-1.43-.59-.52 0-1.04.2-1.43.59L10.3 9.45l-7.72 7.72c-.78.78-.78 2.05 0 2.83L4 21.41c.39.39.9.59 1.41.59.51 0 1.02-.2 1.41-.59l7.78-7.78 2.81-2.81c.8-.78.8-2.07 0-2.86zM5.41 20L4 18.59l7.72-7.72 1.47 1.35L5.41 20z\"/>\n",
              "  </svg>\n",
              "      </button>\n",
              "      \n",
              "  <style>\n",
              "    .colab-df-container {\n",
              "      display:flex;\n",
              "      flex-wrap:wrap;\n",
              "      gap: 12px;\n",
              "    }\n",
              "\n",
              "    .colab-df-convert {\n",
              "      background-color: #E8F0FE;\n",
              "      border: none;\n",
              "      border-radius: 50%;\n",
              "      cursor: pointer;\n",
              "      display: none;\n",
              "      fill: #1967D2;\n",
              "      height: 32px;\n",
              "      padding: 0 0 0 0;\n",
              "      width: 32px;\n",
              "    }\n",
              "\n",
              "    .colab-df-convert:hover {\n",
              "      background-color: #E2EBFA;\n",
              "      box-shadow: 0px 1px 2px rgba(60, 64, 67, 0.3), 0px 1px 3px 1px rgba(60, 64, 67, 0.15);\n",
              "      fill: #174EA6;\n",
              "    }\n",
              "\n",
              "    [theme=dark] .colab-df-convert {\n",
              "      background-color: #3B4455;\n",
              "      fill: #D2E3FC;\n",
              "    }\n",
              "\n",
              "    [theme=dark] .colab-df-convert:hover {\n",
              "      background-color: #434B5C;\n",
              "      box-shadow: 0px 1px 3px 1px rgba(0, 0, 0, 0.15);\n",
              "      filter: drop-shadow(0px 1px 2px rgba(0, 0, 0, 0.3));\n",
              "      fill: #FFFFFF;\n",
              "    }\n",
              "  </style>\n",
              "\n",
              "      <script>\n",
              "        const buttonEl =\n",
              "          document.querySelector('#df-7c12bac5-4c7e-4b49-9d64-c3af704fb6ad button.colab-df-convert');\n",
              "        buttonEl.style.display =\n",
              "          google.colab.kernel.accessAllowed ? 'block' : 'none';\n",
              "\n",
              "        async function convertToInteractive(key) {\n",
              "          const element = document.querySelector('#df-7c12bac5-4c7e-4b49-9d64-c3af704fb6ad');\n",
              "          const dataTable =\n",
              "            await google.colab.kernel.invokeFunction('convertToInteractive',\n",
              "                                                     [key], {});\n",
              "          if (!dataTable) return;\n",
              "\n",
              "          const docLinkHtml = 'Like what you see? Visit the ' +\n",
              "            '<a target=\"_blank\" href=https://colab.research.google.com/notebooks/data_table.ipynb>data table notebook</a>'\n",
              "            + ' to learn more about interactive tables.';\n",
              "          element.innerHTML = '';\n",
              "          dataTable['output_type'] = 'display_data';\n",
              "          await google.colab.output.renderOutput(dataTable, element);\n",
              "          const docLink = document.createElement('div');\n",
              "          docLink.innerHTML = docLinkHtml;\n",
              "          element.appendChild(docLink);\n",
              "        }\n",
              "      </script>\n",
              "    </div>\n",
              "  </div>\n",
              "  "
            ]
          },
          "metadata": {},
          "execution_count": 3
        }
      ],
      "source": [
        "# loading data into pandas dataframe\n",
        "flight_details = pd.read_csv(\"/content/2008.csv\")\n",
        "flight_details"
      ]
    },
    {
      "cell_type": "code",
      "source": [
        "# checking the structure of the data\n",
        "flight_details.shape"
      ],
      "metadata": {
        "colab": {
          "base_uri": "https://localhost:8080/"
        },
        "id": "mvPsZeNtluMH",
        "outputId": "cbf1ce3a-8564-409d-bfba-724dbb92eb83"
      },
      "execution_count": 4,
      "outputs": [
        {
          "output_type": "execute_result",
          "data": {
            "text/plain": [
              "(2389217, 29)"
            ]
          },
          "metadata": {},
          "execution_count": 4
        }
      ]
    },
    {
      "cell_type": "code",
      "source": [
        "# checking for datatypes and missing values\n",
        "flight_details.info()"
      ],
      "metadata": {
        "colab": {
          "base_uri": "https://localhost:8080/"
        },
        "id": "1boE_ek43iEf",
        "outputId": "8ee576ea-b72a-4858-d8be-ff328027b813"
      },
      "execution_count": 5,
      "outputs": [
        {
          "output_type": "stream",
          "name": "stdout",
          "text": [
            "<class 'pandas.core.frame.DataFrame'>\n",
            "RangeIndex: 2389217 entries, 0 to 2389216\n",
            "Data columns (total 29 columns):\n",
            " #   Column             Dtype  \n",
            "---  ------             -----  \n",
            " 0   Year               int64  \n",
            " 1   Month              int64  \n",
            " 2   DayofMonth         int64  \n",
            " 3   DayOfWeek          int64  \n",
            " 4   DepTime            float64\n",
            " 5   CRSDepTime         int64  \n",
            " 6   ArrTime            float64\n",
            " 7   CRSArrTime         int64  \n",
            " 8   UniqueCarrier      object \n",
            " 9   FlightNum          int64  \n",
            " 10  TailNum            object \n",
            " 11  ActualElapsedTime  float64\n",
            " 12  CRSElapsedTime     float64\n",
            " 13  AirTime            float64\n",
            " 14  ArrDelay           float64\n",
            " 15  DepDelay           float64\n",
            " 16  Origin             object \n",
            " 17  Dest               object \n",
            " 18  Distance           int64  \n",
            " 19  TaxiIn             float64\n",
            " 20  TaxiOut            float64\n",
            " 21  Cancelled          int64  \n",
            " 22  CancellationCode   object \n",
            " 23  Diverted           int64  \n",
            " 24  CarrierDelay       float64\n",
            " 25  WeatherDelay       float64\n",
            " 26  NASDelay           float64\n",
            " 27  SecurityDelay      float64\n",
            " 28  LateAircraftDelay  float64\n",
            "dtypes: float64(14), int64(10), object(5)\n",
            "memory usage: 528.6+ MB\n"
          ]
        }
      ]
    },
    {
      "cell_type": "code",
      "source": [
        "# observing the first 15 columns of the dataset\n",
        "flight_details.iloc[0:5, : 17]"
      ],
      "metadata": {
        "id": "G3L9neqRocRX",
        "colab": {
          "base_uri": "https://localhost:8080/",
          "height": 270
        },
        "outputId": "7b18252a-3637-4fe7-a66c-ba03beb0cab2"
      },
      "execution_count": 6,
      "outputs": [
        {
          "output_type": "execute_result",
          "data": {
            "text/plain": [
              "   Year  Month  DayofMonth  DayOfWeek  DepTime  CRSDepTime  ArrTime  \\\n",
              "0  2008      1           3          4   1343.0        1325   1451.0   \n",
              "1  2008      1           3          4   1125.0        1120   1247.0   \n",
              "2  2008      1           3          4   2009.0        2015   2136.0   \n",
              "3  2008      1           3          4    903.0         855   1203.0   \n",
              "4  2008      1           3          4   1423.0        1400   1726.0   \n",
              "\n",
              "   CRSArrTime UniqueCarrier  FlightNum TailNum  ActualElapsedTime  \\\n",
              "0        1435            WN        588  N240WN               68.0   \n",
              "1        1245            WN       1343  N523SW               82.0   \n",
              "2        2140            WN       3841  N280WN               87.0   \n",
              "3        1205            WN          3  N308SA              120.0   \n",
              "4        1710            WN         25  N462WN              123.0   \n",
              "\n",
              "   CRSElapsedTime  AirTime  ArrDelay  DepDelay Origin  \n",
              "0            70.0     55.0      16.0      18.0    HOU  \n",
              "1            85.0     71.0       2.0       5.0    HOU  \n",
              "2            85.0     71.0      -4.0      -6.0    HOU  \n",
              "3           130.0    108.0      -2.0       8.0    HOU  \n",
              "4           130.0    107.0      16.0      23.0    HOU  "
            ],
            "text/html": [
              "\n",
              "  <div id=\"df-2b062cd4-6246-4903-899e-ef7870e8e2bf\">\n",
              "    <div class=\"colab-df-container\">\n",
              "      <div>\n",
              "<style scoped>\n",
              "    .dataframe tbody tr th:only-of-type {\n",
              "        vertical-align: middle;\n",
              "    }\n",
              "\n",
              "    .dataframe tbody tr th {\n",
              "        vertical-align: top;\n",
              "    }\n",
              "\n",
              "    .dataframe thead th {\n",
              "        text-align: right;\n",
              "    }\n",
              "</style>\n",
              "<table border=\"1\" class=\"dataframe\">\n",
              "  <thead>\n",
              "    <tr style=\"text-align: right;\">\n",
              "      <th></th>\n",
              "      <th>Year</th>\n",
              "      <th>Month</th>\n",
              "      <th>DayofMonth</th>\n",
              "      <th>DayOfWeek</th>\n",
              "      <th>DepTime</th>\n",
              "      <th>CRSDepTime</th>\n",
              "      <th>ArrTime</th>\n",
              "      <th>CRSArrTime</th>\n",
              "      <th>UniqueCarrier</th>\n",
              "      <th>FlightNum</th>\n",
              "      <th>TailNum</th>\n",
              "      <th>ActualElapsedTime</th>\n",
              "      <th>CRSElapsedTime</th>\n",
              "      <th>AirTime</th>\n",
              "      <th>ArrDelay</th>\n",
              "      <th>DepDelay</th>\n",
              "      <th>Origin</th>\n",
              "    </tr>\n",
              "  </thead>\n",
              "  <tbody>\n",
              "    <tr>\n",
              "      <th>0</th>\n",
              "      <td>2008</td>\n",
              "      <td>1</td>\n",
              "      <td>3</td>\n",
              "      <td>4</td>\n",
              "      <td>1343.0</td>\n",
              "      <td>1325</td>\n",
              "      <td>1451.0</td>\n",
              "      <td>1435</td>\n",
              "      <td>WN</td>\n",
              "      <td>588</td>\n",
              "      <td>N240WN</td>\n",
              "      <td>68.0</td>\n",
              "      <td>70.0</td>\n",
              "      <td>55.0</td>\n",
              "      <td>16.0</td>\n",
              "      <td>18.0</td>\n",
              "      <td>HOU</td>\n",
              "    </tr>\n",
              "    <tr>\n",
              "      <th>1</th>\n",
              "      <td>2008</td>\n",
              "      <td>1</td>\n",
              "      <td>3</td>\n",
              "      <td>4</td>\n",
              "      <td>1125.0</td>\n",
              "      <td>1120</td>\n",
              "      <td>1247.0</td>\n",
              "      <td>1245</td>\n",
              "      <td>WN</td>\n",
              "      <td>1343</td>\n",
              "      <td>N523SW</td>\n",
              "      <td>82.0</td>\n",
              "      <td>85.0</td>\n",
              "      <td>71.0</td>\n",
              "      <td>2.0</td>\n",
              "      <td>5.0</td>\n",
              "      <td>HOU</td>\n",
              "    </tr>\n",
              "    <tr>\n",
              "      <th>2</th>\n",
              "      <td>2008</td>\n",
              "      <td>1</td>\n",
              "      <td>3</td>\n",
              "      <td>4</td>\n",
              "      <td>2009.0</td>\n",
              "      <td>2015</td>\n",
              "      <td>2136.0</td>\n",
              "      <td>2140</td>\n",
              "      <td>WN</td>\n",
              "      <td>3841</td>\n",
              "      <td>N280WN</td>\n",
              "      <td>87.0</td>\n",
              "      <td>85.0</td>\n",
              "      <td>71.0</td>\n",
              "      <td>-4.0</td>\n",
              "      <td>-6.0</td>\n",
              "      <td>HOU</td>\n",
              "    </tr>\n",
              "    <tr>\n",
              "      <th>3</th>\n",
              "      <td>2008</td>\n",
              "      <td>1</td>\n",
              "      <td>3</td>\n",
              "      <td>4</td>\n",
              "      <td>903.0</td>\n",
              "      <td>855</td>\n",
              "      <td>1203.0</td>\n",
              "      <td>1205</td>\n",
              "      <td>WN</td>\n",
              "      <td>3</td>\n",
              "      <td>N308SA</td>\n",
              "      <td>120.0</td>\n",
              "      <td>130.0</td>\n",
              "      <td>108.0</td>\n",
              "      <td>-2.0</td>\n",
              "      <td>8.0</td>\n",
              "      <td>HOU</td>\n",
              "    </tr>\n",
              "    <tr>\n",
              "      <th>4</th>\n",
              "      <td>2008</td>\n",
              "      <td>1</td>\n",
              "      <td>3</td>\n",
              "      <td>4</td>\n",
              "      <td>1423.0</td>\n",
              "      <td>1400</td>\n",
              "      <td>1726.0</td>\n",
              "      <td>1710</td>\n",
              "      <td>WN</td>\n",
              "      <td>25</td>\n",
              "      <td>N462WN</td>\n",
              "      <td>123.0</td>\n",
              "      <td>130.0</td>\n",
              "      <td>107.0</td>\n",
              "      <td>16.0</td>\n",
              "      <td>23.0</td>\n",
              "      <td>HOU</td>\n",
              "    </tr>\n",
              "  </tbody>\n",
              "</table>\n",
              "</div>\n",
              "      <button class=\"colab-df-convert\" onclick=\"convertToInteractive('df-2b062cd4-6246-4903-899e-ef7870e8e2bf')\"\n",
              "              title=\"Convert this dataframe to an interactive table.\"\n",
              "              style=\"display:none;\">\n",
              "        \n",
              "  <svg xmlns=\"http://www.w3.org/2000/svg\" height=\"24px\"viewBox=\"0 0 24 24\"\n",
              "       width=\"24px\">\n",
              "    <path d=\"M0 0h24v24H0V0z\" fill=\"none\"/>\n",
              "    <path d=\"M18.56 5.44l.94 2.06.94-2.06 2.06-.94-2.06-.94-.94-2.06-.94 2.06-2.06.94zm-11 1L8.5 8.5l.94-2.06 2.06-.94-2.06-.94L8.5 2.5l-.94 2.06-2.06.94zm10 10l.94 2.06.94-2.06 2.06-.94-2.06-.94-.94-2.06-.94 2.06-2.06.94z\"/><path d=\"M17.41 7.96l-1.37-1.37c-.4-.4-.92-.59-1.43-.59-.52 0-1.04.2-1.43.59L10.3 9.45l-7.72 7.72c-.78.78-.78 2.05 0 2.83L4 21.41c.39.39.9.59 1.41.59.51 0 1.02-.2 1.41-.59l7.78-7.78 2.81-2.81c.8-.78.8-2.07 0-2.86zM5.41 20L4 18.59l7.72-7.72 1.47 1.35L5.41 20z\"/>\n",
              "  </svg>\n",
              "      </button>\n",
              "      \n",
              "  <style>\n",
              "    .colab-df-container {\n",
              "      display:flex;\n",
              "      flex-wrap:wrap;\n",
              "      gap: 12px;\n",
              "    }\n",
              "\n",
              "    .colab-df-convert {\n",
              "      background-color: #E8F0FE;\n",
              "      border: none;\n",
              "      border-radius: 50%;\n",
              "      cursor: pointer;\n",
              "      display: none;\n",
              "      fill: #1967D2;\n",
              "      height: 32px;\n",
              "      padding: 0 0 0 0;\n",
              "      width: 32px;\n",
              "    }\n",
              "\n",
              "    .colab-df-convert:hover {\n",
              "      background-color: #E2EBFA;\n",
              "      box-shadow: 0px 1px 2px rgba(60, 64, 67, 0.3), 0px 1px 3px 1px rgba(60, 64, 67, 0.15);\n",
              "      fill: #174EA6;\n",
              "    }\n",
              "\n",
              "    [theme=dark] .colab-df-convert {\n",
              "      background-color: #3B4455;\n",
              "      fill: #D2E3FC;\n",
              "    }\n",
              "\n",
              "    [theme=dark] .colab-df-convert:hover {\n",
              "      background-color: #434B5C;\n",
              "      box-shadow: 0px 1px 3px 1px rgba(0, 0, 0, 0.15);\n",
              "      filter: drop-shadow(0px 1px 2px rgba(0, 0, 0, 0.3));\n",
              "      fill: #FFFFFF;\n",
              "    }\n",
              "  </style>\n",
              "\n",
              "      <script>\n",
              "        const buttonEl =\n",
              "          document.querySelector('#df-2b062cd4-6246-4903-899e-ef7870e8e2bf button.colab-df-convert');\n",
              "        buttonEl.style.display =\n",
              "          google.colab.kernel.accessAllowed ? 'block' : 'none';\n",
              "\n",
              "        async function convertToInteractive(key) {\n",
              "          const element = document.querySelector('#df-2b062cd4-6246-4903-899e-ef7870e8e2bf');\n",
              "          const dataTable =\n",
              "            await google.colab.kernel.invokeFunction('convertToInteractive',\n",
              "                                                     [key], {});\n",
              "          if (!dataTable) return;\n",
              "\n",
              "          const docLinkHtml = 'Like what you see? Visit the ' +\n",
              "            '<a target=\"_blank\" href=https://colab.research.google.com/notebooks/data_table.ipynb>data table notebook</a>'\n",
              "            + ' to learn more about interactive tables.';\n",
              "          element.innerHTML = '';\n",
              "          dataTable['output_type'] = 'display_data';\n",
              "          await google.colab.output.renderOutput(dataTable, element);\n",
              "          const docLink = document.createElement('div');\n",
              "          docLink.innerHTML = docLinkHtml;\n",
              "          element.appendChild(docLink);\n",
              "        }\n",
              "      </script>\n",
              "    </div>\n",
              "  </div>\n",
              "  "
            ]
          },
          "metadata": {},
          "execution_count": 6
        }
      ]
    },
    {
      "cell_type": "markdown",
      "source": [
        "Issues to be corrected\n",
        "- Combining `Year`, `Month` and `DayofMonth` columns into one\n",
        "- Removing unnecessary columns\n",
        "- Dropping duplicate rows, if any"
      ],
      "metadata": {
        "id": "RZvKB7I5UgSr"
      }
    },
    {
      "cell_type": "markdown",
      "source": [
        "Saving a copy of the dataset"
      ],
      "metadata": {
        "id": "SBBiBEogbRGB"
      }
    },
    {
      "cell_type": "code",
      "source": [
        "flight_dets = flight_details.copy()"
      ],
      "metadata": {
        "id": "8aY701_lbVAh"
      },
      "execution_count": 7,
      "outputs": []
    },
    {
      "cell_type": "markdown",
      "source": [
        "Combining `Year`, `Month` and `DayofMonth` columns into `Date`"
      ],
      "metadata": {
        "id": "NgBC_68s7c3R"
      }
    },
    {
      "cell_type": "code",
      "source": [
        "# checking the months to ensure the numbers are between 1 - 12\n",
        "flight_dets['Month'].unique()"
      ],
      "metadata": {
        "colab": {
          "base_uri": "https://localhost:8080/"
        },
        "id": "fWicz2F-NulC",
        "outputId": "6e790748-f11f-4201-b01e-2c2527cfd826"
      },
      "execution_count": 8,
      "outputs": [
        {
          "output_type": "execute_result",
          "data": {
            "text/plain": [
              "array([1, 2, 3, 4])"
            ]
          },
          "metadata": {},
          "execution_count": 8
        }
      ]
    },
    {
      "cell_type": "markdown",
      "source": [
        "> We should note here that there are only 4 months in the data (January to April)"
      ],
      "metadata": {
        "id": "axYO0lt8q4gi"
      }
    },
    {
      "cell_type": "code",
      "source": [
        "# checking the days to ensure the numbers are between 1 - 31\n",
        "flight_dets['DayofMonth'].unique()"
      ],
      "metadata": {
        "colab": {
          "base_uri": "https://localhost:8080/"
        },
        "id": "-Vs4NsspNuY3",
        "outputId": "c12090c1-2fa2-4be8-e90e-685b6fa8a263"
      },
      "execution_count": 9,
      "outputs": [
        {
          "output_type": "execute_result",
          "data": {
            "text/plain": [
              "array([ 3,  4,  5,  6,  7,  8,  9, 10, 11, 12, 13, 14, 15, 16, 17, 18, 19,\n",
              "       20, 21, 22, 23, 24, 25, 26, 27, 28, 29, 30, 31,  2,  1])"
            ]
          },
          "metadata": {},
          "execution_count": 9
        }
      ]
    },
    {
      "cell_type": "code",
      "source": [
        "# converting the variables to strings\n",
        "flight_dets['Year'] = flight_dets['Year'].astype(str)\n",
        "flight_dets['Month'] = flight_dets['Month'].astype(str)\n",
        "flight_dets['DayofMonth'] = flight_dets['DayofMonth'].astype(str)"
      ],
      "metadata": {
        "id": "E7hoabSaPx9w"
      },
      "execution_count": 10,
      "outputs": []
    },
    {
      "cell_type": "code",
      "source": [
        "# checking to ensure data integrity\n",
        "flight_dets.head()"
      ],
      "metadata": {
        "colab": {
          "base_uri": "https://localhost:8080/",
          "height": 299
        },
        "id": "f4oKseK8QSb1",
        "outputId": "b2f72172-1fea-4059-804d-4de71a927d32"
      },
      "execution_count": 11,
      "outputs": [
        {
          "output_type": "execute_result",
          "data": {
            "text/plain": [
              "   Year Month DayofMonth  DayOfWeek  DepTime  CRSDepTime  ArrTime  CRSArrTime  \\\n",
              "0  2008     1          3          4   1343.0        1325   1451.0        1435   \n",
              "1  2008     1          3          4   1125.0        1120   1247.0        1245   \n",
              "2  2008     1          3          4   2009.0        2015   2136.0        2140   \n",
              "3  2008     1          3          4    903.0         855   1203.0        1205   \n",
              "4  2008     1          3          4   1423.0        1400   1726.0        1710   \n",
              "\n",
              "  UniqueCarrier  FlightNum  ... TaxiIn  TaxiOut  Cancelled  CancellationCode  \\\n",
              "0            WN        588  ...    4.0      9.0          0               NaN   \n",
              "1            WN       1343  ...    3.0      8.0          0               NaN   \n",
              "2            WN       3841  ...    2.0     14.0          0               NaN   \n",
              "3            WN          3  ...    5.0      7.0          0               NaN   \n",
              "4            WN         25  ...    6.0     10.0          0               NaN   \n",
              "\n",
              "   Diverted  CarrierDelay WeatherDelay NASDelay  SecurityDelay  \\\n",
              "0         0          16.0          0.0      0.0            0.0   \n",
              "1         0           NaN          NaN      NaN            NaN   \n",
              "2         0           NaN          NaN      NaN            NaN   \n",
              "3         0           NaN          NaN      NaN            NaN   \n",
              "4         0          16.0          0.0      0.0            0.0   \n",
              "\n",
              "   LateAircraftDelay  \n",
              "0                0.0  \n",
              "1                NaN  \n",
              "2                NaN  \n",
              "3                NaN  \n",
              "4                0.0  \n",
              "\n",
              "[5 rows x 29 columns]"
            ],
            "text/html": [
              "\n",
              "  <div id=\"df-251e0eed-5602-4d74-954e-4b67448fb0a2\">\n",
              "    <div class=\"colab-df-container\">\n",
              "      <div>\n",
              "<style scoped>\n",
              "    .dataframe tbody tr th:only-of-type {\n",
              "        vertical-align: middle;\n",
              "    }\n",
              "\n",
              "    .dataframe tbody tr th {\n",
              "        vertical-align: top;\n",
              "    }\n",
              "\n",
              "    .dataframe thead th {\n",
              "        text-align: right;\n",
              "    }\n",
              "</style>\n",
              "<table border=\"1\" class=\"dataframe\">\n",
              "  <thead>\n",
              "    <tr style=\"text-align: right;\">\n",
              "      <th></th>\n",
              "      <th>Year</th>\n",
              "      <th>Month</th>\n",
              "      <th>DayofMonth</th>\n",
              "      <th>DayOfWeek</th>\n",
              "      <th>DepTime</th>\n",
              "      <th>CRSDepTime</th>\n",
              "      <th>ArrTime</th>\n",
              "      <th>CRSArrTime</th>\n",
              "      <th>UniqueCarrier</th>\n",
              "      <th>FlightNum</th>\n",
              "      <th>...</th>\n",
              "      <th>TaxiIn</th>\n",
              "      <th>TaxiOut</th>\n",
              "      <th>Cancelled</th>\n",
              "      <th>CancellationCode</th>\n",
              "      <th>Diverted</th>\n",
              "      <th>CarrierDelay</th>\n",
              "      <th>WeatherDelay</th>\n",
              "      <th>NASDelay</th>\n",
              "      <th>SecurityDelay</th>\n",
              "      <th>LateAircraftDelay</th>\n",
              "    </tr>\n",
              "  </thead>\n",
              "  <tbody>\n",
              "    <tr>\n",
              "      <th>0</th>\n",
              "      <td>2008</td>\n",
              "      <td>1</td>\n",
              "      <td>3</td>\n",
              "      <td>4</td>\n",
              "      <td>1343.0</td>\n",
              "      <td>1325</td>\n",
              "      <td>1451.0</td>\n",
              "      <td>1435</td>\n",
              "      <td>WN</td>\n",
              "      <td>588</td>\n",
              "      <td>...</td>\n",
              "      <td>4.0</td>\n",
              "      <td>9.0</td>\n",
              "      <td>0</td>\n",
              "      <td>NaN</td>\n",
              "      <td>0</td>\n",
              "      <td>16.0</td>\n",
              "      <td>0.0</td>\n",
              "      <td>0.0</td>\n",
              "      <td>0.0</td>\n",
              "      <td>0.0</td>\n",
              "    </tr>\n",
              "    <tr>\n",
              "      <th>1</th>\n",
              "      <td>2008</td>\n",
              "      <td>1</td>\n",
              "      <td>3</td>\n",
              "      <td>4</td>\n",
              "      <td>1125.0</td>\n",
              "      <td>1120</td>\n",
              "      <td>1247.0</td>\n",
              "      <td>1245</td>\n",
              "      <td>WN</td>\n",
              "      <td>1343</td>\n",
              "      <td>...</td>\n",
              "      <td>3.0</td>\n",
              "      <td>8.0</td>\n",
              "      <td>0</td>\n",
              "      <td>NaN</td>\n",
              "      <td>0</td>\n",
              "      <td>NaN</td>\n",
              "      <td>NaN</td>\n",
              "      <td>NaN</td>\n",
              "      <td>NaN</td>\n",
              "      <td>NaN</td>\n",
              "    </tr>\n",
              "    <tr>\n",
              "      <th>2</th>\n",
              "      <td>2008</td>\n",
              "      <td>1</td>\n",
              "      <td>3</td>\n",
              "      <td>4</td>\n",
              "      <td>2009.0</td>\n",
              "      <td>2015</td>\n",
              "      <td>2136.0</td>\n",
              "      <td>2140</td>\n",
              "      <td>WN</td>\n",
              "      <td>3841</td>\n",
              "      <td>...</td>\n",
              "      <td>2.0</td>\n",
              "      <td>14.0</td>\n",
              "      <td>0</td>\n",
              "      <td>NaN</td>\n",
              "      <td>0</td>\n",
              "      <td>NaN</td>\n",
              "      <td>NaN</td>\n",
              "      <td>NaN</td>\n",
              "      <td>NaN</td>\n",
              "      <td>NaN</td>\n",
              "    </tr>\n",
              "    <tr>\n",
              "      <th>3</th>\n",
              "      <td>2008</td>\n",
              "      <td>1</td>\n",
              "      <td>3</td>\n",
              "      <td>4</td>\n",
              "      <td>903.0</td>\n",
              "      <td>855</td>\n",
              "      <td>1203.0</td>\n",
              "      <td>1205</td>\n",
              "      <td>WN</td>\n",
              "      <td>3</td>\n",
              "      <td>...</td>\n",
              "      <td>5.0</td>\n",
              "      <td>7.0</td>\n",
              "      <td>0</td>\n",
              "      <td>NaN</td>\n",
              "      <td>0</td>\n",
              "      <td>NaN</td>\n",
              "      <td>NaN</td>\n",
              "      <td>NaN</td>\n",
              "      <td>NaN</td>\n",
              "      <td>NaN</td>\n",
              "    </tr>\n",
              "    <tr>\n",
              "      <th>4</th>\n",
              "      <td>2008</td>\n",
              "      <td>1</td>\n",
              "      <td>3</td>\n",
              "      <td>4</td>\n",
              "      <td>1423.0</td>\n",
              "      <td>1400</td>\n",
              "      <td>1726.0</td>\n",
              "      <td>1710</td>\n",
              "      <td>WN</td>\n",
              "      <td>25</td>\n",
              "      <td>...</td>\n",
              "      <td>6.0</td>\n",
              "      <td>10.0</td>\n",
              "      <td>0</td>\n",
              "      <td>NaN</td>\n",
              "      <td>0</td>\n",
              "      <td>16.0</td>\n",
              "      <td>0.0</td>\n",
              "      <td>0.0</td>\n",
              "      <td>0.0</td>\n",
              "      <td>0.0</td>\n",
              "    </tr>\n",
              "  </tbody>\n",
              "</table>\n",
              "<p>5 rows × 29 columns</p>\n",
              "</div>\n",
              "      <button class=\"colab-df-convert\" onclick=\"convertToInteractive('df-251e0eed-5602-4d74-954e-4b67448fb0a2')\"\n",
              "              title=\"Convert this dataframe to an interactive table.\"\n",
              "              style=\"display:none;\">\n",
              "        \n",
              "  <svg xmlns=\"http://www.w3.org/2000/svg\" height=\"24px\"viewBox=\"0 0 24 24\"\n",
              "       width=\"24px\">\n",
              "    <path d=\"M0 0h24v24H0V0z\" fill=\"none\"/>\n",
              "    <path d=\"M18.56 5.44l.94 2.06.94-2.06 2.06-.94-2.06-.94-.94-2.06-.94 2.06-2.06.94zm-11 1L8.5 8.5l.94-2.06 2.06-.94-2.06-.94L8.5 2.5l-.94 2.06-2.06.94zm10 10l.94 2.06.94-2.06 2.06-.94-2.06-.94-.94-2.06-.94 2.06-2.06.94z\"/><path d=\"M17.41 7.96l-1.37-1.37c-.4-.4-.92-.59-1.43-.59-.52 0-1.04.2-1.43.59L10.3 9.45l-7.72 7.72c-.78.78-.78 2.05 0 2.83L4 21.41c.39.39.9.59 1.41.59.51 0 1.02-.2 1.41-.59l7.78-7.78 2.81-2.81c.8-.78.8-2.07 0-2.86zM5.41 20L4 18.59l7.72-7.72 1.47 1.35L5.41 20z\"/>\n",
              "  </svg>\n",
              "      </button>\n",
              "      \n",
              "  <style>\n",
              "    .colab-df-container {\n",
              "      display:flex;\n",
              "      flex-wrap:wrap;\n",
              "      gap: 12px;\n",
              "    }\n",
              "\n",
              "    .colab-df-convert {\n",
              "      background-color: #E8F0FE;\n",
              "      border: none;\n",
              "      border-radius: 50%;\n",
              "      cursor: pointer;\n",
              "      display: none;\n",
              "      fill: #1967D2;\n",
              "      height: 32px;\n",
              "      padding: 0 0 0 0;\n",
              "      width: 32px;\n",
              "    }\n",
              "\n",
              "    .colab-df-convert:hover {\n",
              "      background-color: #E2EBFA;\n",
              "      box-shadow: 0px 1px 2px rgba(60, 64, 67, 0.3), 0px 1px 3px 1px rgba(60, 64, 67, 0.15);\n",
              "      fill: #174EA6;\n",
              "    }\n",
              "\n",
              "    [theme=dark] .colab-df-convert {\n",
              "      background-color: #3B4455;\n",
              "      fill: #D2E3FC;\n",
              "    }\n",
              "\n",
              "    [theme=dark] .colab-df-convert:hover {\n",
              "      background-color: #434B5C;\n",
              "      box-shadow: 0px 1px 3px 1px rgba(0, 0, 0, 0.15);\n",
              "      filter: drop-shadow(0px 1px 2px rgba(0, 0, 0, 0.3));\n",
              "      fill: #FFFFFF;\n",
              "    }\n",
              "  </style>\n",
              "\n",
              "      <script>\n",
              "        const buttonEl =\n",
              "          document.querySelector('#df-251e0eed-5602-4d74-954e-4b67448fb0a2 button.colab-df-convert');\n",
              "        buttonEl.style.display =\n",
              "          google.colab.kernel.accessAllowed ? 'block' : 'none';\n",
              "\n",
              "        async function convertToInteractive(key) {\n",
              "          const element = document.querySelector('#df-251e0eed-5602-4d74-954e-4b67448fb0a2');\n",
              "          const dataTable =\n",
              "            await google.colab.kernel.invokeFunction('convertToInteractive',\n",
              "                                                     [key], {});\n",
              "          if (!dataTable) return;\n",
              "\n",
              "          const docLinkHtml = 'Like what you see? Visit the ' +\n",
              "            '<a target=\"_blank\" href=https://colab.research.google.com/notebooks/data_table.ipynb>data table notebook</a>'\n",
              "            + ' to learn more about interactive tables.';\n",
              "          element.innerHTML = '';\n",
              "          dataTable['output_type'] = 'display_data';\n",
              "          await google.colab.output.renderOutput(dataTable, element);\n",
              "          const docLink = document.createElement('div');\n",
              "          docLink.innerHTML = docLinkHtml;\n",
              "          element.appendChild(docLink);\n",
              "        }\n",
              "      </script>\n",
              "    </div>\n",
              "  </div>\n",
              "  "
            ]
          },
          "metadata": {},
          "execution_count": 11
        }
      ]
    },
    {
      "cell_type": "code",
      "source": [
        "# making the date column\n",
        "flight_dets['Date'] = pd.to_datetime(flight_dets['Year'] + '-' + flight_dets['Month'] + '-' + flight_dets['DayofMonth'])"
      ],
      "metadata": {
        "id": "8gtzDbX_CMvW"
      },
      "execution_count": 12,
      "outputs": []
    },
    {
      "cell_type": "code",
      "source": [
        "# inserting it into the first column of the dataframe\n",
        "first_col = flight_dets.pop('Date')\n",
        "flight_dets.insert(0, 'Date', first_col)"
      ],
      "metadata": {
        "id": "bXsFUvuzkJ2H"
      },
      "execution_count": 13,
      "outputs": []
    },
    {
      "cell_type": "code",
      "source": [
        "# checking to ensure code worked as expected\n",
        "flight_dets.head()\n"
      ],
      "metadata": {
        "colab": {
          "base_uri": "https://localhost:8080/",
          "height": 386
        },
        "id": "ueMPVef8OIBc",
        "outputId": "ebdc81af-df95-4f9b-e46b-81a384206856"
      },
      "execution_count": 14,
      "outputs": [
        {
          "output_type": "execute_result",
          "data": {
            "text/plain": [
              "        Date  Year Month DayofMonth  DayOfWeek  DepTime  CRSDepTime  ArrTime  \\\n",
              "0 2008-01-03  2008     1          3          4   1343.0        1325   1451.0   \n",
              "1 2008-01-03  2008     1          3          4   1125.0        1120   1247.0   \n",
              "2 2008-01-03  2008     1          3          4   2009.0        2015   2136.0   \n",
              "3 2008-01-03  2008     1          3          4    903.0         855   1203.0   \n",
              "4 2008-01-03  2008     1          3          4   1423.0        1400   1726.0   \n",
              "\n",
              "   CRSArrTime UniqueCarrier  ...  TaxiIn TaxiOut  Cancelled  CancellationCode  \\\n",
              "0        1435            WN  ...     4.0     9.0          0               NaN   \n",
              "1        1245            WN  ...     3.0     8.0          0               NaN   \n",
              "2        2140            WN  ...     2.0    14.0          0               NaN   \n",
              "3        1205            WN  ...     5.0     7.0          0               NaN   \n",
              "4        1710            WN  ...     6.0    10.0          0               NaN   \n",
              "\n",
              "   Diverted  CarrierDelay  WeatherDelay NASDelay SecurityDelay  \\\n",
              "0         0          16.0           0.0      0.0           0.0   \n",
              "1         0           NaN           NaN      NaN           NaN   \n",
              "2         0           NaN           NaN      NaN           NaN   \n",
              "3         0           NaN           NaN      NaN           NaN   \n",
              "4         0          16.0           0.0      0.0           0.0   \n",
              "\n",
              "   LateAircraftDelay  \n",
              "0                0.0  \n",
              "1                NaN  \n",
              "2                NaN  \n",
              "3                NaN  \n",
              "4                0.0  \n",
              "\n",
              "[5 rows x 30 columns]"
            ],
            "text/html": [
              "\n",
              "  <div id=\"df-a190b9ff-7276-4c8e-90ee-bb62ff29df8d\">\n",
              "    <div class=\"colab-df-container\">\n",
              "      <div>\n",
              "<style scoped>\n",
              "    .dataframe tbody tr th:only-of-type {\n",
              "        vertical-align: middle;\n",
              "    }\n",
              "\n",
              "    .dataframe tbody tr th {\n",
              "        vertical-align: top;\n",
              "    }\n",
              "\n",
              "    .dataframe thead th {\n",
              "        text-align: right;\n",
              "    }\n",
              "</style>\n",
              "<table border=\"1\" class=\"dataframe\">\n",
              "  <thead>\n",
              "    <tr style=\"text-align: right;\">\n",
              "      <th></th>\n",
              "      <th>Date</th>\n",
              "      <th>Year</th>\n",
              "      <th>Month</th>\n",
              "      <th>DayofMonth</th>\n",
              "      <th>DayOfWeek</th>\n",
              "      <th>DepTime</th>\n",
              "      <th>CRSDepTime</th>\n",
              "      <th>ArrTime</th>\n",
              "      <th>CRSArrTime</th>\n",
              "      <th>UniqueCarrier</th>\n",
              "      <th>...</th>\n",
              "      <th>TaxiIn</th>\n",
              "      <th>TaxiOut</th>\n",
              "      <th>Cancelled</th>\n",
              "      <th>CancellationCode</th>\n",
              "      <th>Diverted</th>\n",
              "      <th>CarrierDelay</th>\n",
              "      <th>WeatherDelay</th>\n",
              "      <th>NASDelay</th>\n",
              "      <th>SecurityDelay</th>\n",
              "      <th>LateAircraftDelay</th>\n",
              "    </tr>\n",
              "  </thead>\n",
              "  <tbody>\n",
              "    <tr>\n",
              "      <th>0</th>\n",
              "      <td>2008-01-03</td>\n",
              "      <td>2008</td>\n",
              "      <td>1</td>\n",
              "      <td>3</td>\n",
              "      <td>4</td>\n",
              "      <td>1343.0</td>\n",
              "      <td>1325</td>\n",
              "      <td>1451.0</td>\n",
              "      <td>1435</td>\n",
              "      <td>WN</td>\n",
              "      <td>...</td>\n",
              "      <td>4.0</td>\n",
              "      <td>9.0</td>\n",
              "      <td>0</td>\n",
              "      <td>NaN</td>\n",
              "      <td>0</td>\n",
              "      <td>16.0</td>\n",
              "      <td>0.0</td>\n",
              "      <td>0.0</td>\n",
              "      <td>0.0</td>\n",
              "      <td>0.0</td>\n",
              "    </tr>\n",
              "    <tr>\n",
              "      <th>1</th>\n",
              "      <td>2008-01-03</td>\n",
              "      <td>2008</td>\n",
              "      <td>1</td>\n",
              "      <td>3</td>\n",
              "      <td>4</td>\n",
              "      <td>1125.0</td>\n",
              "      <td>1120</td>\n",
              "      <td>1247.0</td>\n",
              "      <td>1245</td>\n",
              "      <td>WN</td>\n",
              "      <td>...</td>\n",
              "      <td>3.0</td>\n",
              "      <td>8.0</td>\n",
              "      <td>0</td>\n",
              "      <td>NaN</td>\n",
              "      <td>0</td>\n",
              "      <td>NaN</td>\n",
              "      <td>NaN</td>\n",
              "      <td>NaN</td>\n",
              "      <td>NaN</td>\n",
              "      <td>NaN</td>\n",
              "    </tr>\n",
              "    <tr>\n",
              "      <th>2</th>\n",
              "      <td>2008-01-03</td>\n",
              "      <td>2008</td>\n",
              "      <td>1</td>\n",
              "      <td>3</td>\n",
              "      <td>4</td>\n",
              "      <td>2009.0</td>\n",
              "      <td>2015</td>\n",
              "      <td>2136.0</td>\n",
              "      <td>2140</td>\n",
              "      <td>WN</td>\n",
              "      <td>...</td>\n",
              "      <td>2.0</td>\n",
              "      <td>14.0</td>\n",
              "      <td>0</td>\n",
              "      <td>NaN</td>\n",
              "      <td>0</td>\n",
              "      <td>NaN</td>\n",
              "      <td>NaN</td>\n",
              "      <td>NaN</td>\n",
              "      <td>NaN</td>\n",
              "      <td>NaN</td>\n",
              "    </tr>\n",
              "    <tr>\n",
              "      <th>3</th>\n",
              "      <td>2008-01-03</td>\n",
              "      <td>2008</td>\n",
              "      <td>1</td>\n",
              "      <td>3</td>\n",
              "      <td>4</td>\n",
              "      <td>903.0</td>\n",
              "      <td>855</td>\n",
              "      <td>1203.0</td>\n",
              "      <td>1205</td>\n",
              "      <td>WN</td>\n",
              "      <td>...</td>\n",
              "      <td>5.0</td>\n",
              "      <td>7.0</td>\n",
              "      <td>0</td>\n",
              "      <td>NaN</td>\n",
              "      <td>0</td>\n",
              "      <td>NaN</td>\n",
              "      <td>NaN</td>\n",
              "      <td>NaN</td>\n",
              "      <td>NaN</td>\n",
              "      <td>NaN</td>\n",
              "    </tr>\n",
              "    <tr>\n",
              "      <th>4</th>\n",
              "      <td>2008-01-03</td>\n",
              "      <td>2008</td>\n",
              "      <td>1</td>\n",
              "      <td>3</td>\n",
              "      <td>4</td>\n",
              "      <td>1423.0</td>\n",
              "      <td>1400</td>\n",
              "      <td>1726.0</td>\n",
              "      <td>1710</td>\n",
              "      <td>WN</td>\n",
              "      <td>...</td>\n",
              "      <td>6.0</td>\n",
              "      <td>10.0</td>\n",
              "      <td>0</td>\n",
              "      <td>NaN</td>\n",
              "      <td>0</td>\n",
              "      <td>16.0</td>\n",
              "      <td>0.0</td>\n",
              "      <td>0.0</td>\n",
              "      <td>0.0</td>\n",
              "      <td>0.0</td>\n",
              "    </tr>\n",
              "  </tbody>\n",
              "</table>\n",
              "<p>5 rows × 30 columns</p>\n",
              "</div>\n",
              "      <button class=\"colab-df-convert\" onclick=\"convertToInteractive('df-a190b9ff-7276-4c8e-90ee-bb62ff29df8d')\"\n",
              "              title=\"Convert this dataframe to an interactive table.\"\n",
              "              style=\"display:none;\">\n",
              "        \n",
              "  <svg xmlns=\"http://www.w3.org/2000/svg\" height=\"24px\"viewBox=\"0 0 24 24\"\n",
              "       width=\"24px\">\n",
              "    <path d=\"M0 0h24v24H0V0z\" fill=\"none\"/>\n",
              "    <path d=\"M18.56 5.44l.94 2.06.94-2.06 2.06-.94-2.06-.94-.94-2.06-.94 2.06-2.06.94zm-11 1L8.5 8.5l.94-2.06 2.06-.94-2.06-.94L8.5 2.5l-.94 2.06-2.06.94zm10 10l.94 2.06.94-2.06 2.06-.94-2.06-.94-.94-2.06-.94 2.06-2.06.94z\"/><path d=\"M17.41 7.96l-1.37-1.37c-.4-.4-.92-.59-1.43-.59-.52 0-1.04.2-1.43.59L10.3 9.45l-7.72 7.72c-.78.78-.78 2.05 0 2.83L4 21.41c.39.39.9.59 1.41.59.51 0 1.02-.2 1.41-.59l7.78-7.78 2.81-2.81c.8-.78.8-2.07 0-2.86zM5.41 20L4 18.59l7.72-7.72 1.47 1.35L5.41 20z\"/>\n",
              "  </svg>\n",
              "      </button>\n",
              "      \n",
              "  <style>\n",
              "    .colab-df-container {\n",
              "      display:flex;\n",
              "      flex-wrap:wrap;\n",
              "      gap: 12px;\n",
              "    }\n",
              "\n",
              "    .colab-df-convert {\n",
              "      background-color: #E8F0FE;\n",
              "      border: none;\n",
              "      border-radius: 50%;\n",
              "      cursor: pointer;\n",
              "      display: none;\n",
              "      fill: #1967D2;\n",
              "      height: 32px;\n",
              "      padding: 0 0 0 0;\n",
              "      width: 32px;\n",
              "    }\n",
              "\n",
              "    .colab-df-convert:hover {\n",
              "      background-color: #E2EBFA;\n",
              "      box-shadow: 0px 1px 2px rgba(60, 64, 67, 0.3), 0px 1px 3px 1px rgba(60, 64, 67, 0.15);\n",
              "      fill: #174EA6;\n",
              "    }\n",
              "\n",
              "    [theme=dark] .colab-df-convert {\n",
              "      background-color: #3B4455;\n",
              "      fill: #D2E3FC;\n",
              "    }\n",
              "\n",
              "    [theme=dark] .colab-df-convert:hover {\n",
              "      background-color: #434B5C;\n",
              "      box-shadow: 0px 1px 3px 1px rgba(0, 0, 0, 0.15);\n",
              "      filter: drop-shadow(0px 1px 2px rgba(0, 0, 0, 0.3));\n",
              "      fill: #FFFFFF;\n",
              "    }\n",
              "  </style>\n",
              "\n",
              "      <script>\n",
              "        const buttonEl =\n",
              "          document.querySelector('#df-a190b9ff-7276-4c8e-90ee-bb62ff29df8d button.colab-df-convert');\n",
              "        buttonEl.style.display =\n",
              "          google.colab.kernel.accessAllowed ? 'block' : 'none';\n",
              "\n",
              "        async function convertToInteractive(key) {\n",
              "          const element = document.querySelector('#df-a190b9ff-7276-4c8e-90ee-bb62ff29df8d');\n",
              "          const dataTable =\n",
              "            await google.colab.kernel.invokeFunction('convertToInteractive',\n",
              "                                                     [key], {});\n",
              "          if (!dataTable) return;\n",
              "\n",
              "          const docLinkHtml = 'Like what you see? Visit the ' +\n",
              "            '<a target=\"_blank\" href=https://colab.research.google.com/notebooks/data_table.ipynb>data table notebook</a>'\n",
              "            + ' to learn more about interactive tables.';\n",
              "          element.innerHTML = '';\n",
              "          dataTable['output_type'] = 'display_data';\n",
              "          await google.colab.output.renderOutput(dataTable, element);\n",
              "          const docLink = document.createElement('div');\n",
              "          docLink.innerHTML = docLinkHtml;\n",
              "          element.appendChild(docLink);\n",
              "        }\n",
              "      </script>\n",
              "    </div>\n",
              "  </div>\n",
              "  "
            ]
          },
          "metadata": {},
          "execution_count": 14
        }
      ]
    },
    {
      "cell_type": "markdown",
      "source": [
        "Removing unnecessary columns -`Year`, `Month` and `DayofMonth` and `DayOfWeek`, `TaxiIn`, `TaxiOut`"
      ],
      "metadata": {
        "id": "PAVyMs43Tq2L"
      }
    },
    {
      "cell_type": "code",
      "source": [
        "flight_dets.drop(['Year', 'Month', 'DayofMonth', 'DayOfWeek', 'TaxiIn', 'TaxiOut'], axis=1, inplace=True)"
      ],
      "metadata": {
        "id": "EdoC4rSvT2W5"
      },
      "execution_count": 15,
      "outputs": []
    },
    {
      "cell_type": "code",
      "source": [
        "# checking to ensure changes\n",
        "flight_dets.head()"
      ],
      "metadata": {
        "colab": {
          "base_uri": "https://localhost:8080/",
          "height": 386
        },
        "id": "EHlEgp2ye0rr",
        "outputId": "ecc405f6-1ed9-4057-e98c-41077e18d4f6"
      },
      "execution_count": 16,
      "outputs": [
        {
          "output_type": "execute_result",
          "data": {
            "text/plain": [
              "        Date  DepTime  CRSDepTime  ArrTime  CRSArrTime UniqueCarrier  \\\n",
              "0 2008-01-03   1343.0        1325   1451.0        1435            WN   \n",
              "1 2008-01-03   1125.0        1120   1247.0        1245            WN   \n",
              "2 2008-01-03   2009.0        2015   2136.0        2140            WN   \n",
              "3 2008-01-03    903.0         855   1203.0        1205            WN   \n",
              "4 2008-01-03   1423.0        1400   1726.0        1710            WN   \n",
              "\n",
              "   FlightNum TailNum  ActualElapsedTime  CRSElapsedTime  ...  Dest  Distance  \\\n",
              "0        588  N240WN               68.0            70.0  ...   LIT       393   \n",
              "1       1343  N523SW               82.0            85.0  ...   MAF       441   \n",
              "2       3841  N280WN               87.0            85.0  ...   MAF       441   \n",
              "3          3  N308SA              120.0           130.0  ...   MCO       848   \n",
              "4         25  N462WN              123.0           130.0  ...   MCO       848   \n",
              "\n",
              "   Cancelled CancellationCode Diverted  CarrierDelay  WeatherDelay NASDelay  \\\n",
              "0          0              NaN        0          16.0           0.0      0.0   \n",
              "1          0              NaN        0           NaN           NaN      NaN   \n",
              "2          0              NaN        0           NaN           NaN      NaN   \n",
              "3          0              NaN        0           NaN           NaN      NaN   \n",
              "4          0              NaN        0          16.0           0.0      0.0   \n",
              "\n",
              "   SecurityDelay  LateAircraftDelay  \n",
              "0            0.0                0.0  \n",
              "1            NaN                NaN  \n",
              "2            NaN                NaN  \n",
              "3            NaN                NaN  \n",
              "4            0.0                0.0  \n",
              "\n",
              "[5 rows x 24 columns]"
            ],
            "text/html": [
              "\n",
              "  <div id=\"df-f681077a-04b4-4383-bb31-53e45e4e402e\">\n",
              "    <div class=\"colab-df-container\">\n",
              "      <div>\n",
              "<style scoped>\n",
              "    .dataframe tbody tr th:only-of-type {\n",
              "        vertical-align: middle;\n",
              "    }\n",
              "\n",
              "    .dataframe tbody tr th {\n",
              "        vertical-align: top;\n",
              "    }\n",
              "\n",
              "    .dataframe thead th {\n",
              "        text-align: right;\n",
              "    }\n",
              "</style>\n",
              "<table border=\"1\" class=\"dataframe\">\n",
              "  <thead>\n",
              "    <tr style=\"text-align: right;\">\n",
              "      <th></th>\n",
              "      <th>Date</th>\n",
              "      <th>DepTime</th>\n",
              "      <th>CRSDepTime</th>\n",
              "      <th>ArrTime</th>\n",
              "      <th>CRSArrTime</th>\n",
              "      <th>UniqueCarrier</th>\n",
              "      <th>FlightNum</th>\n",
              "      <th>TailNum</th>\n",
              "      <th>ActualElapsedTime</th>\n",
              "      <th>CRSElapsedTime</th>\n",
              "      <th>...</th>\n",
              "      <th>Dest</th>\n",
              "      <th>Distance</th>\n",
              "      <th>Cancelled</th>\n",
              "      <th>CancellationCode</th>\n",
              "      <th>Diverted</th>\n",
              "      <th>CarrierDelay</th>\n",
              "      <th>WeatherDelay</th>\n",
              "      <th>NASDelay</th>\n",
              "      <th>SecurityDelay</th>\n",
              "      <th>LateAircraftDelay</th>\n",
              "    </tr>\n",
              "  </thead>\n",
              "  <tbody>\n",
              "    <tr>\n",
              "      <th>0</th>\n",
              "      <td>2008-01-03</td>\n",
              "      <td>1343.0</td>\n",
              "      <td>1325</td>\n",
              "      <td>1451.0</td>\n",
              "      <td>1435</td>\n",
              "      <td>WN</td>\n",
              "      <td>588</td>\n",
              "      <td>N240WN</td>\n",
              "      <td>68.0</td>\n",
              "      <td>70.0</td>\n",
              "      <td>...</td>\n",
              "      <td>LIT</td>\n",
              "      <td>393</td>\n",
              "      <td>0</td>\n",
              "      <td>NaN</td>\n",
              "      <td>0</td>\n",
              "      <td>16.0</td>\n",
              "      <td>0.0</td>\n",
              "      <td>0.0</td>\n",
              "      <td>0.0</td>\n",
              "      <td>0.0</td>\n",
              "    </tr>\n",
              "    <tr>\n",
              "      <th>1</th>\n",
              "      <td>2008-01-03</td>\n",
              "      <td>1125.0</td>\n",
              "      <td>1120</td>\n",
              "      <td>1247.0</td>\n",
              "      <td>1245</td>\n",
              "      <td>WN</td>\n",
              "      <td>1343</td>\n",
              "      <td>N523SW</td>\n",
              "      <td>82.0</td>\n",
              "      <td>85.0</td>\n",
              "      <td>...</td>\n",
              "      <td>MAF</td>\n",
              "      <td>441</td>\n",
              "      <td>0</td>\n",
              "      <td>NaN</td>\n",
              "      <td>0</td>\n",
              "      <td>NaN</td>\n",
              "      <td>NaN</td>\n",
              "      <td>NaN</td>\n",
              "      <td>NaN</td>\n",
              "      <td>NaN</td>\n",
              "    </tr>\n",
              "    <tr>\n",
              "      <th>2</th>\n",
              "      <td>2008-01-03</td>\n",
              "      <td>2009.0</td>\n",
              "      <td>2015</td>\n",
              "      <td>2136.0</td>\n",
              "      <td>2140</td>\n",
              "      <td>WN</td>\n",
              "      <td>3841</td>\n",
              "      <td>N280WN</td>\n",
              "      <td>87.0</td>\n",
              "      <td>85.0</td>\n",
              "      <td>...</td>\n",
              "      <td>MAF</td>\n",
              "      <td>441</td>\n",
              "      <td>0</td>\n",
              "      <td>NaN</td>\n",
              "      <td>0</td>\n",
              "      <td>NaN</td>\n",
              "      <td>NaN</td>\n",
              "      <td>NaN</td>\n",
              "      <td>NaN</td>\n",
              "      <td>NaN</td>\n",
              "    </tr>\n",
              "    <tr>\n",
              "      <th>3</th>\n",
              "      <td>2008-01-03</td>\n",
              "      <td>903.0</td>\n",
              "      <td>855</td>\n",
              "      <td>1203.0</td>\n",
              "      <td>1205</td>\n",
              "      <td>WN</td>\n",
              "      <td>3</td>\n",
              "      <td>N308SA</td>\n",
              "      <td>120.0</td>\n",
              "      <td>130.0</td>\n",
              "      <td>...</td>\n",
              "      <td>MCO</td>\n",
              "      <td>848</td>\n",
              "      <td>0</td>\n",
              "      <td>NaN</td>\n",
              "      <td>0</td>\n",
              "      <td>NaN</td>\n",
              "      <td>NaN</td>\n",
              "      <td>NaN</td>\n",
              "      <td>NaN</td>\n",
              "      <td>NaN</td>\n",
              "    </tr>\n",
              "    <tr>\n",
              "      <th>4</th>\n",
              "      <td>2008-01-03</td>\n",
              "      <td>1423.0</td>\n",
              "      <td>1400</td>\n",
              "      <td>1726.0</td>\n",
              "      <td>1710</td>\n",
              "      <td>WN</td>\n",
              "      <td>25</td>\n",
              "      <td>N462WN</td>\n",
              "      <td>123.0</td>\n",
              "      <td>130.0</td>\n",
              "      <td>...</td>\n",
              "      <td>MCO</td>\n",
              "      <td>848</td>\n",
              "      <td>0</td>\n",
              "      <td>NaN</td>\n",
              "      <td>0</td>\n",
              "      <td>16.0</td>\n",
              "      <td>0.0</td>\n",
              "      <td>0.0</td>\n",
              "      <td>0.0</td>\n",
              "      <td>0.0</td>\n",
              "    </tr>\n",
              "  </tbody>\n",
              "</table>\n",
              "<p>5 rows × 24 columns</p>\n",
              "</div>\n",
              "      <button class=\"colab-df-convert\" onclick=\"convertToInteractive('df-f681077a-04b4-4383-bb31-53e45e4e402e')\"\n",
              "              title=\"Convert this dataframe to an interactive table.\"\n",
              "              style=\"display:none;\">\n",
              "        \n",
              "  <svg xmlns=\"http://www.w3.org/2000/svg\" height=\"24px\"viewBox=\"0 0 24 24\"\n",
              "       width=\"24px\">\n",
              "    <path d=\"M0 0h24v24H0V0z\" fill=\"none\"/>\n",
              "    <path d=\"M18.56 5.44l.94 2.06.94-2.06 2.06-.94-2.06-.94-.94-2.06-.94 2.06-2.06.94zm-11 1L8.5 8.5l.94-2.06 2.06-.94-2.06-.94L8.5 2.5l-.94 2.06-2.06.94zm10 10l.94 2.06.94-2.06 2.06-.94-2.06-.94-.94-2.06-.94 2.06-2.06.94z\"/><path d=\"M17.41 7.96l-1.37-1.37c-.4-.4-.92-.59-1.43-.59-.52 0-1.04.2-1.43.59L10.3 9.45l-7.72 7.72c-.78.78-.78 2.05 0 2.83L4 21.41c.39.39.9.59 1.41.59.51 0 1.02-.2 1.41-.59l7.78-7.78 2.81-2.81c.8-.78.8-2.07 0-2.86zM5.41 20L4 18.59l7.72-7.72 1.47 1.35L5.41 20z\"/>\n",
              "  </svg>\n",
              "      </button>\n",
              "      \n",
              "  <style>\n",
              "    .colab-df-container {\n",
              "      display:flex;\n",
              "      flex-wrap:wrap;\n",
              "      gap: 12px;\n",
              "    }\n",
              "\n",
              "    .colab-df-convert {\n",
              "      background-color: #E8F0FE;\n",
              "      border: none;\n",
              "      border-radius: 50%;\n",
              "      cursor: pointer;\n",
              "      display: none;\n",
              "      fill: #1967D2;\n",
              "      height: 32px;\n",
              "      padding: 0 0 0 0;\n",
              "      width: 32px;\n",
              "    }\n",
              "\n",
              "    .colab-df-convert:hover {\n",
              "      background-color: #E2EBFA;\n",
              "      box-shadow: 0px 1px 2px rgba(60, 64, 67, 0.3), 0px 1px 3px 1px rgba(60, 64, 67, 0.15);\n",
              "      fill: #174EA6;\n",
              "    }\n",
              "\n",
              "    [theme=dark] .colab-df-convert {\n",
              "      background-color: #3B4455;\n",
              "      fill: #D2E3FC;\n",
              "    }\n",
              "\n",
              "    [theme=dark] .colab-df-convert:hover {\n",
              "      background-color: #434B5C;\n",
              "      box-shadow: 0px 1px 3px 1px rgba(0, 0, 0, 0.15);\n",
              "      filter: drop-shadow(0px 1px 2px rgba(0, 0, 0, 0.3));\n",
              "      fill: #FFFFFF;\n",
              "    }\n",
              "  </style>\n",
              "\n",
              "      <script>\n",
              "        const buttonEl =\n",
              "          document.querySelector('#df-f681077a-04b4-4383-bb31-53e45e4e402e button.colab-df-convert');\n",
              "        buttonEl.style.display =\n",
              "          google.colab.kernel.accessAllowed ? 'block' : 'none';\n",
              "\n",
              "        async function convertToInteractive(key) {\n",
              "          const element = document.querySelector('#df-f681077a-04b4-4383-bb31-53e45e4e402e');\n",
              "          const dataTable =\n",
              "            await google.colab.kernel.invokeFunction('convertToInteractive',\n",
              "                                                     [key], {});\n",
              "          if (!dataTable) return;\n",
              "\n",
              "          const docLinkHtml = 'Like what you see? Visit the ' +\n",
              "            '<a target=\"_blank\" href=https://colab.research.google.com/notebooks/data_table.ipynb>data table notebook</a>'\n",
              "            + ' to learn more about interactive tables.';\n",
              "          element.innerHTML = '';\n",
              "          dataTable['output_type'] = 'display_data';\n",
              "          await google.colab.output.renderOutput(dataTable, element);\n",
              "          const docLink = document.createElement('div');\n",
              "          docLink.innerHTML = docLinkHtml;\n",
              "          element.appendChild(docLink);\n",
              "        }\n",
              "      </script>\n",
              "    </div>\n",
              "  </div>\n",
              "  "
            ]
          },
          "metadata": {},
          "execution_count": 16
        }
      ]
    },
    {
      "cell_type": "markdown",
      "source": [
        "Dropping duplicate rows"
      ],
      "metadata": {
        "id": "MXCcYKKoldQL"
      }
    },
    {
      "cell_type": "code",
      "source": [
        "flight_dets.drop_duplicates(inplace=True)"
      ],
      "metadata": {
        "id": "pbNuUzntlfy3"
      },
      "execution_count": 17,
      "outputs": []
    },
    {
      "cell_type": "code",
      "source": [
        "# checking to see if any records were dropped\n",
        "flight_dets.info()"
      ],
      "metadata": {
        "colab": {
          "base_uri": "https://localhost:8080/"
        },
        "id": "oXsBbv0hlsbs",
        "outputId": "bb6ea294-3962-4005-9b8f-e695e3fb71b8"
      },
      "execution_count": 18,
      "outputs": [
        {
          "output_type": "stream",
          "name": "stdout",
          "text": [
            "<class 'pandas.core.frame.DataFrame'>\n",
            "Int64Index: 2389213 entries, 0 to 2389216\n",
            "Data columns (total 24 columns):\n",
            " #   Column             Dtype         \n",
            "---  ------             -----         \n",
            " 0   Date               datetime64[ns]\n",
            " 1   DepTime            float64       \n",
            " 2   CRSDepTime         int64         \n",
            " 3   ArrTime            float64       \n",
            " 4   CRSArrTime         int64         \n",
            " 5   UniqueCarrier      object        \n",
            " 6   FlightNum          int64         \n",
            " 7   TailNum            object        \n",
            " 8   ActualElapsedTime  float64       \n",
            " 9   CRSElapsedTime     float64       \n",
            " 10  AirTime            float64       \n",
            " 11  ArrDelay           float64       \n",
            " 12  DepDelay           float64       \n",
            " 13  Origin             object        \n",
            " 14  Dest               object        \n",
            " 15  Distance           int64         \n",
            " 16  Cancelled          int64         \n",
            " 17  CancellationCode   object        \n",
            " 18  Diverted           int64         \n",
            " 19  CarrierDelay       float64       \n",
            " 20  WeatherDelay       float64       \n",
            " 21  NASDelay           float64       \n",
            " 22  SecurityDelay      float64       \n",
            " 23  LateAircraftDelay  float64       \n",
            "dtypes: datetime64[ns](1), float64(12), int64(6), object(5)\n",
            "memory usage: 455.7+ MB\n"
          ]
        }
      ]
    },
    {
      "cell_type": "code",
      "source": [
        "airport = pd.read_csv(\"/content/airports.csv\")\n",
        "airport.head()"
      ],
      "metadata": {
        "id": "AXFhORUyxL--",
        "colab": {
          "base_uri": "https://localhost:8080/",
          "height": 206
        },
        "outputId": "3514baf6-3a2e-449d-9a1e-42b81c74ec09"
      },
      "execution_count": 19,
      "outputs": [
        {
          "output_type": "execute_result",
          "data": {
            "text/plain": [
              "  iata               airport              city state country        lat  \\\n",
              "0  00M              Thigpen        Bay Springs    MS     USA  31.953765   \n",
              "1  00R  Livingston Municipal        Livingston    TX     USA  30.685861   \n",
              "2  00V           Meadow Lake  Colorado Springs    CO     USA  38.945749   \n",
              "3  01G          Perry-Warsaw             Perry    NY     USA  42.741347   \n",
              "4  01J      Hilliard Airpark          Hilliard    FL     USA  30.688012   \n",
              "\n",
              "         long  \n",
              "0  -89.234505  \n",
              "1  -95.017928  \n",
              "2 -104.569893  \n",
              "3  -78.052081  \n",
              "4  -81.905944  "
            ],
            "text/html": [
              "\n",
              "  <div id=\"df-746a30ad-d1b6-4046-b26a-684489c585af\">\n",
              "    <div class=\"colab-df-container\">\n",
              "      <div>\n",
              "<style scoped>\n",
              "    .dataframe tbody tr th:only-of-type {\n",
              "        vertical-align: middle;\n",
              "    }\n",
              "\n",
              "    .dataframe tbody tr th {\n",
              "        vertical-align: top;\n",
              "    }\n",
              "\n",
              "    .dataframe thead th {\n",
              "        text-align: right;\n",
              "    }\n",
              "</style>\n",
              "<table border=\"1\" class=\"dataframe\">\n",
              "  <thead>\n",
              "    <tr style=\"text-align: right;\">\n",
              "      <th></th>\n",
              "      <th>iata</th>\n",
              "      <th>airport</th>\n",
              "      <th>city</th>\n",
              "      <th>state</th>\n",
              "      <th>country</th>\n",
              "      <th>lat</th>\n",
              "      <th>long</th>\n",
              "    </tr>\n",
              "  </thead>\n",
              "  <tbody>\n",
              "    <tr>\n",
              "      <th>0</th>\n",
              "      <td>00M</td>\n",
              "      <td>Thigpen</td>\n",
              "      <td>Bay Springs</td>\n",
              "      <td>MS</td>\n",
              "      <td>USA</td>\n",
              "      <td>31.953765</td>\n",
              "      <td>-89.234505</td>\n",
              "    </tr>\n",
              "    <tr>\n",
              "      <th>1</th>\n",
              "      <td>00R</td>\n",
              "      <td>Livingston Municipal</td>\n",
              "      <td>Livingston</td>\n",
              "      <td>TX</td>\n",
              "      <td>USA</td>\n",
              "      <td>30.685861</td>\n",
              "      <td>-95.017928</td>\n",
              "    </tr>\n",
              "    <tr>\n",
              "      <th>2</th>\n",
              "      <td>00V</td>\n",
              "      <td>Meadow Lake</td>\n",
              "      <td>Colorado Springs</td>\n",
              "      <td>CO</td>\n",
              "      <td>USA</td>\n",
              "      <td>38.945749</td>\n",
              "      <td>-104.569893</td>\n",
              "    </tr>\n",
              "    <tr>\n",
              "      <th>3</th>\n",
              "      <td>01G</td>\n",
              "      <td>Perry-Warsaw</td>\n",
              "      <td>Perry</td>\n",
              "      <td>NY</td>\n",
              "      <td>USA</td>\n",
              "      <td>42.741347</td>\n",
              "      <td>-78.052081</td>\n",
              "    </tr>\n",
              "    <tr>\n",
              "      <th>4</th>\n",
              "      <td>01J</td>\n",
              "      <td>Hilliard Airpark</td>\n",
              "      <td>Hilliard</td>\n",
              "      <td>FL</td>\n",
              "      <td>USA</td>\n",
              "      <td>30.688012</td>\n",
              "      <td>-81.905944</td>\n",
              "    </tr>\n",
              "  </tbody>\n",
              "</table>\n",
              "</div>\n",
              "      <button class=\"colab-df-convert\" onclick=\"convertToInteractive('df-746a30ad-d1b6-4046-b26a-684489c585af')\"\n",
              "              title=\"Convert this dataframe to an interactive table.\"\n",
              "              style=\"display:none;\">\n",
              "        \n",
              "  <svg xmlns=\"http://www.w3.org/2000/svg\" height=\"24px\"viewBox=\"0 0 24 24\"\n",
              "       width=\"24px\">\n",
              "    <path d=\"M0 0h24v24H0V0z\" fill=\"none\"/>\n",
              "    <path d=\"M18.56 5.44l.94 2.06.94-2.06 2.06-.94-2.06-.94-.94-2.06-.94 2.06-2.06.94zm-11 1L8.5 8.5l.94-2.06 2.06-.94-2.06-.94L8.5 2.5l-.94 2.06-2.06.94zm10 10l.94 2.06.94-2.06 2.06-.94-2.06-.94-.94-2.06-.94 2.06-2.06.94z\"/><path d=\"M17.41 7.96l-1.37-1.37c-.4-.4-.92-.59-1.43-.59-.52 0-1.04.2-1.43.59L10.3 9.45l-7.72 7.72c-.78.78-.78 2.05 0 2.83L4 21.41c.39.39.9.59 1.41.59.51 0 1.02-.2 1.41-.59l7.78-7.78 2.81-2.81c.8-.78.8-2.07 0-2.86zM5.41 20L4 18.59l7.72-7.72 1.47 1.35L5.41 20z\"/>\n",
              "  </svg>\n",
              "      </button>\n",
              "      \n",
              "  <style>\n",
              "    .colab-df-container {\n",
              "      display:flex;\n",
              "      flex-wrap:wrap;\n",
              "      gap: 12px;\n",
              "    }\n",
              "\n",
              "    .colab-df-convert {\n",
              "      background-color: #E8F0FE;\n",
              "      border: none;\n",
              "      border-radius: 50%;\n",
              "      cursor: pointer;\n",
              "      display: none;\n",
              "      fill: #1967D2;\n",
              "      height: 32px;\n",
              "      padding: 0 0 0 0;\n",
              "      width: 32px;\n",
              "    }\n",
              "\n",
              "    .colab-df-convert:hover {\n",
              "      background-color: #E2EBFA;\n",
              "      box-shadow: 0px 1px 2px rgba(60, 64, 67, 0.3), 0px 1px 3px 1px rgba(60, 64, 67, 0.15);\n",
              "      fill: #174EA6;\n",
              "    }\n",
              "\n",
              "    [theme=dark] .colab-df-convert {\n",
              "      background-color: #3B4455;\n",
              "      fill: #D2E3FC;\n",
              "    }\n",
              "\n",
              "    [theme=dark] .colab-df-convert:hover {\n",
              "      background-color: #434B5C;\n",
              "      box-shadow: 0px 1px 3px 1px rgba(0, 0, 0, 0.15);\n",
              "      filter: drop-shadow(0px 1px 2px rgba(0, 0, 0, 0.3));\n",
              "      fill: #FFFFFF;\n",
              "    }\n",
              "  </style>\n",
              "\n",
              "      <script>\n",
              "        const buttonEl =\n",
              "          document.querySelector('#df-746a30ad-d1b6-4046-b26a-684489c585af button.colab-df-convert');\n",
              "        buttonEl.style.display =\n",
              "          google.colab.kernel.accessAllowed ? 'block' : 'none';\n",
              "\n",
              "        async function convertToInteractive(key) {\n",
              "          const element = document.querySelector('#df-746a30ad-d1b6-4046-b26a-684489c585af');\n",
              "          const dataTable =\n",
              "            await google.colab.kernel.invokeFunction('convertToInteractive',\n",
              "                                                     [key], {});\n",
              "          if (!dataTable) return;\n",
              "\n",
              "          const docLinkHtml = 'Like what you see? Visit the ' +\n",
              "            '<a target=\"_blank\" href=https://colab.research.google.com/notebooks/data_table.ipynb>data table notebook</a>'\n",
              "            + ' to learn more about interactive tables.';\n",
              "          element.innerHTML = '';\n",
              "          dataTable['output_type'] = 'display_data';\n",
              "          await google.colab.output.renderOutput(dataTable, element);\n",
              "          const docLink = document.createElement('div');\n",
              "          docLink.innerHTML = docLinkHtml;\n",
              "          element.appendChild(docLink);\n",
              "        }\n",
              "      </script>\n",
              "    </div>\n",
              "  </div>\n",
              "  "
            ]
          },
          "metadata": {},
          "execution_count": 19
        }
      ]
    },
    {
      "cell_type": "code",
      "source": [
        "carriers = pd.read_csv(\"/content/carriers.csv\")\n",
        "carriers"
      ],
      "metadata": {
        "id": "1UhQ3Fw7xMuU",
        "colab": {
          "base_uri": "https://localhost:8080/",
          "height": 423
        },
        "outputId": "d5a7950a-459b-4daa-f958-55f9d905862a"
      },
      "execution_count": 20,
      "outputs": [
        {
          "output_type": "execute_result",
          "data": {
            "text/plain": [
              "        Code                    Description\n",
              "0        02Q                  Titan Airways\n",
              "1        04Q             Tradewind Aviation\n",
              "2        05Q            Comlux Aviation, AG\n",
              "3        06Q  Master Top Linhas Aereas Ltd.\n",
              "4        07Q            Flair Airlines Ltd.\n",
              "...      ...                            ...\n",
              "1486      ZW    Air Wisconsin Airlines Corp\n",
              "1487      ZX                   Air Georgian\n",
              "1488  ZX (1)                     Airbc Ltd.\n",
              "1489      ZY         Atlantic Gulf Airlines\n",
              "1490     ZYZ           Skyway Aviation Inc.\n",
              "\n",
              "[1491 rows x 2 columns]"
            ],
            "text/html": [
              "\n",
              "  <div id=\"df-df541f85-6d1b-4da9-b285-0a7c116cb3ae\">\n",
              "    <div class=\"colab-df-container\">\n",
              "      <div>\n",
              "<style scoped>\n",
              "    .dataframe tbody tr th:only-of-type {\n",
              "        vertical-align: middle;\n",
              "    }\n",
              "\n",
              "    .dataframe tbody tr th {\n",
              "        vertical-align: top;\n",
              "    }\n",
              "\n",
              "    .dataframe thead th {\n",
              "        text-align: right;\n",
              "    }\n",
              "</style>\n",
              "<table border=\"1\" class=\"dataframe\">\n",
              "  <thead>\n",
              "    <tr style=\"text-align: right;\">\n",
              "      <th></th>\n",
              "      <th>Code</th>\n",
              "      <th>Description</th>\n",
              "    </tr>\n",
              "  </thead>\n",
              "  <tbody>\n",
              "    <tr>\n",
              "      <th>0</th>\n",
              "      <td>02Q</td>\n",
              "      <td>Titan Airways</td>\n",
              "    </tr>\n",
              "    <tr>\n",
              "      <th>1</th>\n",
              "      <td>04Q</td>\n",
              "      <td>Tradewind Aviation</td>\n",
              "    </tr>\n",
              "    <tr>\n",
              "      <th>2</th>\n",
              "      <td>05Q</td>\n",
              "      <td>Comlux Aviation, AG</td>\n",
              "    </tr>\n",
              "    <tr>\n",
              "      <th>3</th>\n",
              "      <td>06Q</td>\n",
              "      <td>Master Top Linhas Aereas Ltd.</td>\n",
              "    </tr>\n",
              "    <tr>\n",
              "      <th>4</th>\n",
              "      <td>07Q</td>\n",
              "      <td>Flair Airlines Ltd.</td>\n",
              "    </tr>\n",
              "    <tr>\n",
              "      <th>...</th>\n",
              "      <td>...</td>\n",
              "      <td>...</td>\n",
              "    </tr>\n",
              "    <tr>\n",
              "      <th>1486</th>\n",
              "      <td>ZW</td>\n",
              "      <td>Air Wisconsin Airlines Corp</td>\n",
              "    </tr>\n",
              "    <tr>\n",
              "      <th>1487</th>\n",
              "      <td>ZX</td>\n",
              "      <td>Air Georgian</td>\n",
              "    </tr>\n",
              "    <tr>\n",
              "      <th>1488</th>\n",
              "      <td>ZX (1)</td>\n",
              "      <td>Airbc Ltd.</td>\n",
              "    </tr>\n",
              "    <tr>\n",
              "      <th>1489</th>\n",
              "      <td>ZY</td>\n",
              "      <td>Atlantic Gulf Airlines</td>\n",
              "    </tr>\n",
              "    <tr>\n",
              "      <th>1490</th>\n",
              "      <td>ZYZ</td>\n",
              "      <td>Skyway Aviation Inc.</td>\n",
              "    </tr>\n",
              "  </tbody>\n",
              "</table>\n",
              "<p>1491 rows × 2 columns</p>\n",
              "</div>\n",
              "      <button class=\"colab-df-convert\" onclick=\"convertToInteractive('df-df541f85-6d1b-4da9-b285-0a7c116cb3ae')\"\n",
              "              title=\"Convert this dataframe to an interactive table.\"\n",
              "              style=\"display:none;\">\n",
              "        \n",
              "  <svg xmlns=\"http://www.w3.org/2000/svg\" height=\"24px\"viewBox=\"0 0 24 24\"\n",
              "       width=\"24px\">\n",
              "    <path d=\"M0 0h24v24H0V0z\" fill=\"none\"/>\n",
              "    <path d=\"M18.56 5.44l.94 2.06.94-2.06 2.06-.94-2.06-.94-.94-2.06-.94 2.06-2.06.94zm-11 1L8.5 8.5l.94-2.06 2.06-.94-2.06-.94L8.5 2.5l-.94 2.06-2.06.94zm10 10l.94 2.06.94-2.06 2.06-.94-2.06-.94-.94-2.06-.94 2.06-2.06.94z\"/><path d=\"M17.41 7.96l-1.37-1.37c-.4-.4-.92-.59-1.43-.59-.52 0-1.04.2-1.43.59L10.3 9.45l-7.72 7.72c-.78.78-.78 2.05 0 2.83L4 21.41c.39.39.9.59 1.41.59.51 0 1.02-.2 1.41-.59l7.78-7.78 2.81-2.81c.8-.78.8-2.07 0-2.86zM5.41 20L4 18.59l7.72-7.72 1.47 1.35L5.41 20z\"/>\n",
              "  </svg>\n",
              "      </button>\n",
              "      \n",
              "  <style>\n",
              "    .colab-df-container {\n",
              "      display:flex;\n",
              "      flex-wrap:wrap;\n",
              "      gap: 12px;\n",
              "    }\n",
              "\n",
              "    .colab-df-convert {\n",
              "      background-color: #E8F0FE;\n",
              "      border: none;\n",
              "      border-radius: 50%;\n",
              "      cursor: pointer;\n",
              "      display: none;\n",
              "      fill: #1967D2;\n",
              "      height: 32px;\n",
              "      padding: 0 0 0 0;\n",
              "      width: 32px;\n",
              "    }\n",
              "\n",
              "    .colab-df-convert:hover {\n",
              "      background-color: #E2EBFA;\n",
              "      box-shadow: 0px 1px 2px rgba(60, 64, 67, 0.3), 0px 1px 3px 1px rgba(60, 64, 67, 0.15);\n",
              "      fill: #174EA6;\n",
              "    }\n",
              "\n",
              "    [theme=dark] .colab-df-convert {\n",
              "      background-color: #3B4455;\n",
              "      fill: #D2E3FC;\n",
              "    }\n",
              "\n",
              "    [theme=dark] .colab-df-convert:hover {\n",
              "      background-color: #434B5C;\n",
              "      box-shadow: 0px 1px 3px 1px rgba(0, 0, 0, 0.15);\n",
              "      filter: drop-shadow(0px 1px 2px rgba(0, 0, 0, 0.3));\n",
              "      fill: #FFFFFF;\n",
              "    }\n",
              "  </style>\n",
              "\n",
              "      <script>\n",
              "        const buttonEl =\n",
              "          document.querySelector('#df-df541f85-6d1b-4da9-b285-0a7c116cb3ae button.colab-df-convert');\n",
              "        buttonEl.style.display =\n",
              "          google.colab.kernel.accessAllowed ? 'block' : 'none';\n",
              "\n",
              "        async function convertToInteractive(key) {\n",
              "          const element = document.querySelector('#df-df541f85-6d1b-4da9-b285-0a7c116cb3ae');\n",
              "          const dataTable =\n",
              "            await google.colab.kernel.invokeFunction('convertToInteractive',\n",
              "                                                     [key], {});\n",
              "          if (!dataTable) return;\n",
              "\n",
              "          const docLinkHtml = 'Like what you see? Visit the ' +\n",
              "            '<a target=\"_blank\" href=https://colab.research.google.com/notebooks/data_table.ipynb>data table notebook</a>'\n",
              "            + ' to learn more about interactive tables.';\n",
              "          element.innerHTML = '';\n",
              "          dataTable['output_type'] = 'display_data';\n",
              "          await google.colab.output.renderOutput(dataTable, element);\n",
              "          const docLink = document.createElement('div');\n",
              "          docLink.innerHTML = docLinkHtml;\n",
              "          element.appendChild(docLink);\n",
              "        }\n",
              "      </script>\n",
              "    </div>\n",
              "  </div>\n",
              "  "
            ]
          },
          "metadata": {},
          "execution_count": 20
        }
      ]
    },
    {
      "cell_type": "code",
      "source": [
        "airplane_data = pd.read_csv(\"/content/plane-data.csv\")\n",
        "airplane_data.head()"
      ],
      "metadata": {
        "id": "tWmXl9L1xNUf",
        "colab": {
          "base_uri": "https://localhost:8080/",
          "height": 206
        },
        "outputId": "20f561d8-62b1-443a-b031-e25faebf0f2b"
      },
      "execution_count": 21,
      "outputs": [
        {
          "output_type": "execute_result",
          "data": {
            "text/plain": [
              "  tailnum type manufacturer issue_date model status aircraft_type engine_type  \\\n",
              "0  N050AA  NaN          NaN        NaN   NaN    NaN           NaN         NaN   \n",
              "1  N051AA  NaN          NaN        NaN   NaN    NaN           NaN         NaN   \n",
              "2  N052AA  NaN          NaN        NaN   NaN    NaN           NaN         NaN   \n",
              "3  N054AA  NaN          NaN        NaN   NaN    NaN           NaN         NaN   \n",
              "4  N055AA  NaN          NaN        NaN   NaN    NaN           NaN         NaN   \n",
              "\n",
              "  year  \n",
              "0  NaN  \n",
              "1  NaN  \n",
              "2  NaN  \n",
              "3  NaN  \n",
              "4  NaN  "
            ],
            "text/html": [
              "\n",
              "  <div id=\"df-65c7c489-20d6-4b10-96f5-ee7e061f374a\">\n",
              "    <div class=\"colab-df-container\">\n",
              "      <div>\n",
              "<style scoped>\n",
              "    .dataframe tbody tr th:only-of-type {\n",
              "        vertical-align: middle;\n",
              "    }\n",
              "\n",
              "    .dataframe tbody tr th {\n",
              "        vertical-align: top;\n",
              "    }\n",
              "\n",
              "    .dataframe thead th {\n",
              "        text-align: right;\n",
              "    }\n",
              "</style>\n",
              "<table border=\"1\" class=\"dataframe\">\n",
              "  <thead>\n",
              "    <tr style=\"text-align: right;\">\n",
              "      <th></th>\n",
              "      <th>tailnum</th>\n",
              "      <th>type</th>\n",
              "      <th>manufacturer</th>\n",
              "      <th>issue_date</th>\n",
              "      <th>model</th>\n",
              "      <th>status</th>\n",
              "      <th>aircraft_type</th>\n",
              "      <th>engine_type</th>\n",
              "      <th>year</th>\n",
              "    </tr>\n",
              "  </thead>\n",
              "  <tbody>\n",
              "    <tr>\n",
              "      <th>0</th>\n",
              "      <td>N050AA</td>\n",
              "      <td>NaN</td>\n",
              "      <td>NaN</td>\n",
              "      <td>NaN</td>\n",
              "      <td>NaN</td>\n",
              "      <td>NaN</td>\n",
              "      <td>NaN</td>\n",
              "      <td>NaN</td>\n",
              "      <td>NaN</td>\n",
              "    </tr>\n",
              "    <tr>\n",
              "      <th>1</th>\n",
              "      <td>N051AA</td>\n",
              "      <td>NaN</td>\n",
              "      <td>NaN</td>\n",
              "      <td>NaN</td>\n",
              "      <td>NaN</td>\n",
              "      <td>NaN</td>\n",
              "      <td>NaN</td>\n",
              "      <td>NaN</td>\n",
              "      <td>NaN</td>\n",
              "    </tr>\n",
              "    <tr>\n",
              "      <th>2</th>\n",
              "      <td>N052AA</td>\n",
              "      <td>NaN</td>\n",
              "      <td>NaN</td>\n",
              "      <td>NaN</td>\n",
              "      <td>NaN</td>\n",
              "      <td>NaN</td>\n",
              "      <td>NaN</td>\n",
              "      <td>NaN</td>\n",
              "      <td>NaN</td>\n",
              "    </tr>\n",
              "    <tr>\n",
              "      <th>3</th>\n",
              "      <td>N054AA</td>\n",
              "      <td>NaN</td>\n",
              "      <td>NaN</td>\n",
              "      <td>NaN</td>\n",
              "      <td>NaN</td>\n",
              "      <td>NaN</td>\n",
              "      <td>NaN</td>\n",
              "      <td>NaN</td>\n",
              "      <td>NaN</td>\n",
              "    </tr>\n",
              "    <tr>\n",
              "      <th>4</th>\n",
              "      <td>N055AA</td>\n",
              "      <td>NaN</td>\n",
              "      <td>NaN</td>\n",
              "      <td>NaN</td>\n",
              "      <td>NaN</td>\n",
              "      <td>NaN</td>\n",
              "      <td>NaN</td>\n",
              "      <td>NaN</td>\n",
              "      <td>NaN</td>\n",
              "    </tr>\n",
              "  </tbody>\n",
              "</table>\n",
              "</div>\n",
              "      <button class=\"colab-df-convert\" onclick=\"convertToInteractive('df-65c7c489-20d6-4b10-96f5-ee7e061f374a')\"\n",
              "              title=\"Convert this dataframe to an interactive table.\"\n",
              "              style=\"display:none;\">\n",
              "        \n",
              "  <svg xmlns=\"http://www.w3.org/2000/svg\" height=\"24px\"viewBox=\"0 0 24 24\"\n",
              "       width=\"24px\">\n",
              "    <path d=\"M0 0h24v24H0V0z\" fill=\"none\"/>\n",
              "    <path d=\"M18.56 5.44l.94 2.06.94-2.06 2.06-.94-2.06-.94-.94-2.06-.94 2.06-2.06.94zm-11 1L8.5 8.5l.94-2.06 2.06-.94-2.06-.94L8.5 2.5l-.94 2.06-2.06.94zm10 10l.94 2.06.94-2.06 2.06-.94-2.06-.94-.94-2.06-.94 2.06-2.06.94z\"/><path d=\"M17.41 7.96l-1.37-1.37c-.4-.4-.92-.59-1.43-.59-.52 0-1.04.2-1.43.59L10.3 9.45l-7.72 7.72c-.78.78-.78 2.05 0 2.83L4 21.41c.39.39.9.59 1.41.59.51 0 1.02-.2 1.41-.59l7.78-7.78 2.81-2.81c.8-.78.8-2.07 0-2.86zM5.41 20L4 18.59l7.72-7.72 1.47 1.35L5.41 20z\"/>\n",
              "  </svg>\n",
              "      </button>\n",
              "      \n",
              "  <style>\n",
              "    .colab-df-container {\n",
              "      display:flex;\n",
              "      flex-wrap:wrap;\n",
              "      gap: 12px;\n",
              "    }\n",
              "\n",
              "    .colab-df-convert {\n",
              "      background-color: #E8F0FE;\n",
              "      border: none;\n",
              "      border-radius: 50%;\n",
              "      cursor: pointer;\n",
              "      display: none;\n",
              "      fill: #1967D2;\n",
              "      height: 32px;\n",
              "      padding: 0 0 0 0;\n",
              "      width: 32px;\n",
              "    }\n",
              "\n",
              "    .colab-df-convert:hover {\n",
              "      background-color: #E2EBFA;\n",
              "      box-shadow: 0px 1px 2px rgba(60, 64, 67, 0.3), 0px 1px 3px 1px rgba(60, 64, 67, 0.15);\n",
              "      fill: #174EA6;\n",
              "    }\n",
              "\n",
              "    [theme=dark] .colab-df-convert {\n",
              "      background-color: #3B4455;\n",
              "      fill: #D2E3FC;\n",
              "    }\n",
              "\n",
              "    [theme=dark] .colab-df-convert:hover {\n",
              "      background-color: #434B5C;\n",
              "      box-shadow: 0px 1px 3px 1px rgba(0, 0, 0, 0.15);\n",
              "      filter: drop-shadow(0px 1px 2px rgba(0, 0, 0, 0.3));\n",
              "      fill: #FFFFFF;\n",
              "    }\n",
              "  </style>\n",
              "\n",
              "      <script>\n",
              "        const buttonEl =\n",
              "          document.querySelector('#df-65c7c489-20d6-4b10-96f5-ee7e061f374a button.colab-df-convert');\n",
              "        buttonEl.style.display =\n",
              "          google.colab.kernel.accessAllowed ? 'block' : 'none';\n",
              "\n",
              "        async function convertToInteractive(key) {\n",
              "          const element = document.querySelector('#df-65c7c489-20d6-4b10-96f5-ee7e061f374a');\n",
              "          const dataTable =\n",
              "            await google.colab.kernel.invokeFunction('convertToInteractive',\n",
              "                                                     [key], {});\n",
              "          if (!dataTable) return;\n",
              "\n",
              "          const docLinkHtml = 'Like what you see? Visit the ' +\n",
              "            '<a target=\"_blank\" href=https://colab.research.google.com/notebooks/data_table.ipynb>data table notebook</a>'\n",
              "            + ' to learn more about interactive tables.';\n",
              "          element.innerHTML = '';\n",
              "          dataTable['output_type'] = 'display_data';\n",
              "          await google.colab.output.renderOutput(dataTable, element);\n",
              "          const docLink = document.createElement('div');\n",
              "          docLink.innerHTML = docLinkHtml;\n",
              "          element.appendChild(docLink);\n",
              "        }\n",
              "      </script>\n",
              "    </div>\n",
              "  </div>\n",
              "  "
            ]
          },
          "metadata": {},
          "execution_count": 21
        }
      ]
    },
    {
      "cell_type": "code",
      "source": [
        "vars_description = pd.read_csv(\"/content/variable-descriptions.csv\")\n",
        "vars_description"
      ],
      "metadata": {
        "id": "IsLdxrMwxiLS",
        "colab": {
          "base_uri": "https://localhost:8080/",
          "height": 1000
        },
        "outputId": "e8819408-32c0-42c5-a0ef-6d150dac065e"
      },
      "execution_count": 22,
      "outputs": [
        {
          "output_type": "execute_result",
          "data": {
            "text/plain": [
              "    Variable descriptions         Unnamed: 1  \\\n",
              "0                     NaN                NaN   \n",
              "1                     NaN               Name   \n",
              "2                     1.0               Year   \n",
              "3                     2.0              Month   \n",
              "4                     3.0         DayofMonth   \n",
              "5                     4.0          DayOfWeek   \n",
              "6                     5.0            DepTime   \n",
              "7                     6.0         CRSDepTime   \n",
              "8                     7.0            ArrTime   \n",
              "9                     8.0         CRSArrTime   \n",
              "10                    9.0      UniqueCarrier   \n",
              "11                   10.0          FlightNum   \n",
              "12                   11.0            TailNum   \n",
              "13                   12.0  ActualElapsedTime   \n",
              "14                   13.0     CRSElapsedTime   \n",
              "15                   14.0            AirTime   \n",
              "16                   15.0           ArrDelay   \n",
              "17                   16.0           DepDelay   \n",
              "18                   17.0             Origin   \n",
              "19                   18.0               Dest   \n",
              "20                   19.0           Distance   \n",
              "21                   20.0             TaxiIn   \n",
              "22                   21.0            TaxiOut   \n",
              "23                   22.0          Cancelled   \n",
              "24                   23.0   CancellationCode   \n",
              "25                   24.0           Diverted   \n",
              "26                   25.0       CarrierDelay   \n",
              "27                   26.0       WeatherDelay   \n",
              "28                   27.0           NASDelay   \n",
              "29                   28.0      SecurityDelay   \n",
              "30                   29.0  LateAircraftDelay   \n",
              "\n",
              "                                           Unnamed: 2  \n",
              "0                                                 NaN  \n",
              "1                                         Description  \n",
              "2                                           1987-2008  \n",
              "3                                              12-Jan  \n",
              "4                                              31-Jan  \n",
              "5                             1 (Monday) - 7 (Sunday)  \n",
              "6                 actual departure time (local, hhmm)  \n",
              "7              scheduled departure time (local, hhmm)  \n",
              "8                   actual arrival time (local, hhmm)  \n",
              "9                scheduled arrival time (local, hhmm)  \n",
              "10                                unique carrier code  \n",
              "11                                      flight number  \n",
              "12                                  plane tail number  \n",
              "13                                         in minutes  \n",
              "14                                         in minutes  \n",
              "15                                         in minutes  \n",
              "16                          arrival delay, in minutes  \n",
              "17                        departure delay, in minutes  \n",
              "18                           origin IATA airport code  \n",
              "19                      destination IATA airport code  \n",
              "20                                           in miles  \n",
              "21                           taxi in time, in minutes  \n",
              "22                           taxi out time in minutes  \n",
              "23                          was the flight cancelled?  \n",
              "24  reason for cancellation (A = carrier, B = weat...  \n",
              "25                                    1 = yes, 0 = no  \n",
              "26                                         in minutes  \n",
              "27                                         in minutes  \n",
              "28                                         in minutes  \n",
              "29                                         in minutes  \n",
              "30                                         in minutes  "
            ],
            "text/html": [
              "\n",
              "  <div id=\"df-de0da708-b94f-48a8-9e76-171c29ff04cc\">\n",
              "    <div class=\"colab-df-container\">\n",
              "      <div>\n",
              "<style scoped>\n",
              "    .dataframe tbody tr th:only-of-type {\n",
              "        vertical-align: middle;\n",
              "    }\n",
              "\n",
              "    .dataframe tbody tr th {\n",
              "        vertical-align: top;\n",
              "    }\n",
              "\n",
              "    .dataframe thead th {\n",
              "        text-align: right;\n",
              "    }\n",
              "</style>\n",
              "<table border=\"1\" class=\"dataframe\">\n",
              "  <thead>\n",
              "    <tr style=\"text-align: right;\">\n",
              "      <th></th>\n",
              "      <th>Variable descriptions</th>\n",
              "      <th>Unnamed: 1</th>\n",
              "      <th>Unnamed: 2</th>\n",
              "    </tr>\n",
              "  </thead>\n",
              "  <tbody>\n",
              "    <tr>\n",
              "      <th>0</th>\n",
              "      <td>NaN</td>\n",
              "      <td>NaN</td>\n",
              "      <td>NaN</td>\n",
              "    </tr>\n",
              "    <tr>\n",
              "      <th>1</th>\n",
              "      <td>NaN</td>\n",
              "      <td>Name</td>\n",
              "      <td>Description</td>\n",
              "    </tr>\n",
              "    <tr>\n",
              "      <th>2</th>\n",
              "      <td>1.0</td>\n",
              "      <td>Year</td>\n",
              "      <td>1987-2008</td>\n",
              "    </tr>\n",
              "    <tr>\n",
              "      <th>3</th>\n",
              "      <td>2.0</td>\n",
              "      <td>Month</td>\n",
              "      <td>12-Jan</td>\n",
              "    </tr>\n",
              "    <tr>\n",
              "      <th>4</th>\n",
              "      <td>3.0</td>\n",
              "      <td>DayofMonth</td>\n",
              "      <td>31-Jan</td>\n",
              "    </tr>\n",
              "    <tr>\n",
              "      <th>5</th>\n",
              "      <td>4.0</td>\n",
              "      <td>DayOfWeek</td>\n",
              "      <td>1 (Monday) - 7 (Sunday)</td>\n",
              "    </tr>\n",
              "    <tr>\n",
              "      <th>6</th>\n",
              "      <td>5.0</td>\n",
              "      <td>DepTime</td>\n",
              "      <td>actual departure time (local, hhmm)</td>\n",
              "    </tr>\n",
              "    <tr>\n",
              "      <th>7</th>\n",
              "      <td>6.0</td>\n",
              "      <td>CRSDepTime</td>\n",
              "      <td>scheduled departure time (local, hhmm)</td>\n",
              "    </tr>\n",
              "    <tr>\n",
              "      <th>8</th>\n",
              "      <td>7.0</td>\n",
              "      <td>ArrTime</td>\n",
              "      <td>actual arrival time (local, hhmm)</td>\n",
              "    </tr>\n",
              "    <tr>\n",
              "      <th>9</th>\n",
              "      <td>8.0</td>\n",
              "      <td>CRSArrTime</td>\n",
              "      <td>scheduled arrival time (local, hhmm)</td>\n",
              "    </tr>\n",
              "    <tr>\n",
              "      <th>10</th>\n",
              "      <td>9.0</td>\n",
              "      <td>UniqueCarrier</td>\n",
              "      <td>unique carrier code</td>\n",
              "    </tr>\n",
              "    <tr>\n",
              "      <th>11</th>\n",
              "      <td>10.0</td>\n",
              "      <td>FlightNum</td>\n",
              "      <td>flight number</td>\n",
              "    </tr>\n",
              "    <tr>\n",
              "      <th>12</th>\n",
              "      <td>11.0</td>\n",
              "      <td>TailNum</td>\n",
              "      <td>plane tail number</td>\n",
              "    </tr>\n",
              "    <tr>\n",
              "      <th>13</th>\n",
              "      <td>12.0</td>\n",
              "      <td>ActualElapsedTime</td>\n",
              "      <td>in minutes</td>\n",
              "    </tr>\n",
              "    <tr>\n",
              "      <th>14</th>\n",
              "      <td>13.0</td>\n",
              "      <td>CRSElapsedTime</td>\n",
              "      <td>in minutes</td>\n",
              "    </tr>\n",
              "    <tr>\n",
              "      <th>15</th>\n",
              "      <td>14.0</td>\n",
              "      <td>AirTime</td>\n",
              "      <td>in minutes</td>\n",
              "    </tr>\n",
              "    <tr>\n",
              "      <th>16</th>\n",
              "      <td>15.0</td>\n",
              "      <td>ArrDelay</td>\n",
              "      <td>arrival delay, in minutes</td>\n",
              "    </tr>\n",
              "    <tr>\n",
              "      <th>17</th>\n",
              "      <td>16.0</td>\n",
              "      <td>DepDelay</td>\n",
              "      <td>departure delay, in minutes</td>\n",
              "    </tr>\n",
              "    <tr>\n",
              "      <th>18</th>\n",
              "      <td>17.0</td>\n",
              "      <td>Origin</td>\n",
              "      <td>origin IATA airport code</td>\n",
              "    </tr>\n",
              "    <tr>\n",
              "      <th>19</th>\n",
              "      <td>18.0</td>\n",
              "      <td>Dest</td>\n",
              "      <td>destination IATA airport code</td>\n",
              "    </tr>\n",
              "    <tr>\n",
              "      <th>20</th>\n",
              "      <td>19.0</td>\n",
              "      <td>Distance</td>\n",
              "      <td>in miles</td>\n",
              "    </tr>\n",
              "    <tr>\n",
              "      <th>21</th>\n",
              "      <td>20.0</td>\n",
              "      <td>TaxiIn</td>\n",
              "      <td>taxi in time, in minutes</td>\n",
              "    </tr>\n",
              "    <tr>\n",
              "      <th>22</th>\n",
              "      <td>21.0</td>\n",
              "      <td>TaxiOut</td>\n",
              "      <td>taxi out time in minutes</td>\n",
              "    </tr>\n",
              "    <tr>\n",
              "      <th>23</th>\n",
              "      <td>22.0</td>\n",
              "      <td>Cancelled</td>\n",
              "      <td>was the flight cancelled?</td>\n",
              "    </tr>\n",
              "    <tr>\n",
              "      <th>24</th>\n",
              "      <td>23.0</td>\n",
              "      <td>CancellationCode</td>\n",
              "      <td>reason for cancellation (A = carrier, B = weat...</td>\n",
              "    </tr>\n",
              "    <tr>\n",
              "      <th>25</th>\n",
              "      <td>24.0</td>\n",
              "      <td>Diverted</td>\n",
              "      <td>1 = yes, 0 = no</td>\n",
              "    </tr>\n",
              "    <tr>\n",
              "      <th>26</th>\n",
              "      <td>25.0</td>\n",
              "      <td>CarrierDelay</td>\n",
              "      <td>in minutes</td>\n",
              "    </tr>\n",
              "    <tr>\n",
              "      <th>27</th>\n",
              "      <td>26.0</td>\n",
              "      <td>WeatherDelay</td>\n",
              "      <td>in minutes</td>\n",
              "    </tr>\n",
              "    <tr>\n",
              "      <th>28</th>\n",
              "      <td>27.0</td>\n",
              "      <td>NASDelay</td>\n",
              "      <td>in minutes</td>\n",
              "    </tr>\n",
              "    <tr>\n",
              "      <th>29</th>\n",
              "      <td>28.0</td>\n",
              "      <td>SecurityDelay</td>\n",
              "      <td>in minutes</td>\n",
              "    </tr>\n",
              "    <tr>\n",
              "      <th>30</th>\n",
              "      <td>29.0</td>\n",
              "      <td>LateAircraftDelay</td>\n",
              "      <td>in minutes</td>\n",
              "    </tr>\n",
              "  </tbody>\n",
              "</table>\n",
              "</div>\n",
              "      <button class=\"colab-df-convert\" onclick=\"convertToInteractive('df-de0da708-b94f-48a8-9e76-171c29ff04cc')\"\n",
              "              title=\"Convert this dataframe to an interactive table.\"\n",
              "              style=\"display:none;\">\n",
              "        \n",
              "  <svg xmlns=\"http://www.w3.org/2000/svg\" height=\"24px\"viewBox=\"0 0 24 24\"\n",
              "       width=\"24px\">\n",
              "    <path d=\"M0 0h24v24H0V0z\" fill=\"none\"/>\n",
              "    <path d=\"M18.56 5.44l.94 2.06.94-2.06 2.06-.94-2.06-.94-.94-2.06-.94 2.06-2.06.94zm-11 1L8.5 8.5l.94-2.06 2.06-.94-2.06-.94L8.5 2.5l-.94 2.06-2.06.94zm10 10l.94 2.06.94-2.06 2.06-.94-2.06-.94-.94-2.06-.94 2.06-2.06.94z\"/><path d=\"M17.41 7.96l-1.37-1.37c-.4-.4-.92-.59-1.43-.59-.52 0-1.04.2-1.43.59L10.3 9.45l-7.72 7.72c-.78.78-.78 2.05 0 2.83L4 21.41c.39.39.9.59 1.41.59.51 0 1.02-.2 1.41-.59l7.78-7.78 2.81-2.81c.8-.78.8-2.07 0-2.86zM5.41 20L4 18.59l7.72-7.72 1.47 1.35L5.41 20z\"/>\n",
              "  </svg>\n",
              "      </button>\n",
              "      \n",
              "  <style>\n",
              "    .colab-df-container {\n",
              "      display:flex;\n",
              "      flex-wrap:wrap;\n",
              "      gap: 12px;\n",
              "    }\n",
              "\n",
              "    .colab-df-convert {\n",
              "      background-color: #E8F0FE;\n",
              "      border: none;\n",
              "      border-radius: 50%;\n",
              "      cursor: pointer;\n",
              "      display: none;\n",
              "      fill: #1967D2;\n",
              "      height: 32px;\n",
              "      padding: 0 0 0 0;\n",
              "      width: 32px;\n",
              "    }\n",
              "\n",
              "    .colab-df-convert:hover {\n",
              "      background-color: #E2EBFA;\n",
              "      box-shadow: 0px 1px 2px rgba(60, 64, 67, 0.3), 0px 1px 3px 1px rgba(60, 64, 67, 0.15);\n",
              "      fill: #174EA6;\n",
              "    }\n",
              "\n",
              "    [theme=dark] .colab-df-convert {\n",
              "      background-color: #3B4455;\n",
              "      fill: #D2E3FC;\n",
              "    }\n",
              "\n",
              "    [theme=dark] .colab-df-convert:hover {\n",
              "      background-color: #434B5C;\n",
              "      box-shadow: 0px 1px 3px 1px rgba(0, 0, 0, 0.15);\n",
              "      filter: drop-shadow(0px 1px 2px rgba(0, 0, 0, 0.3));\n",
              "      fill: #FFFFFF;\n",
              "    }\n",
              "  </style>\n",
              "\n",
              "      <script>\n",
              "        const buttonEl =\n",
              "          document.querySelector('#df-de0da708-b94f-48a8-9e76-171c29ff04cc button.colab-df-convert');\n",
              "        buttonEl.style.display =\n",
              "          google.colab.kernel.accessAllowed ? 'block' : 'none';\n",
              "\n",
              "        async function convertToInteractive(key) {\n",
              "          const element = document.querySelector('#df-de0da708-b94f-48a8-9e76-171c29ff04cc');\n",
              "          const dataTable =\n",
              "            await google.colab.kernel.invokeFunction('convertToInteractive',\n",
              "                                                     [key], {});\n",
              "          if (!dataTable) return;\n",
              "\n",
              "          const docLinkHtml = 'Like what you see? Visit the ' +\n",
              "            '<a target=\"_blank\" href=https://colab.research.google.com/notebooks/data_table.ipynb>data table notebook</a>'\n",
              "            + ' to learn more about interactive tables.';\n",
              "          element.innerHTML = '';\n",
              "          dataTable['output_type'] = 'display_data';\n",
              "          await google.colab.output.renderOutput(dataTable, element);\n",
              "          const docLink = document.createElement('div');\n",
              "          docLink.innerHTML = docLinkHtml;\n",
              "          element.appendChild(docLink);\n",
              "        }\n",
              "      </script>\n",
              "    </div>\n",
              "  </div>\n",
              "  "
            ]
          },
          "metadata": {},
          "execution_count": 22
        }
      ]
    },
    {
      "cell_type": "markdown",
      "metadata": {
        "id": "OjZ5uwRZo1MN"
      },
      "source": [
        "### What is the structure of your dataset?\n",
        "\n",
        "> The dataset consists of 29 features and more than 2 million records. More information about the features (columns) definition can be found in the `vars_description` dataframe.\n",
        "\n",
        "### What is/are the main feature(s) of interest in your dataset?\n",
        "\n",
        "> I am most interested in exploring features that really correlate with delayed flights \n",
        "\n",
        "### What features in the dataset do you think will help support your investigation into your feature(s) of interest?\n",
        "\n",
        "> The features I think will help support my investigation are the \n",
        "- the causes of delays - `CarrierDelay`, `WeatherDelay`, `NASDelay`, `SecurityDelay`, `LateAircraftDelay`. I expect Weather to be a major cause\n",
        "- the `Distance` covered\n",
        "- if a particular airline is associated with more delays (`UniqueCarrier`)\n",
        "- differences between the actual elapsed and scheduled elapse times, `ActualElapsedTime` and  `CSRElapsedTime` which indicate the delay time in minutes\n"
      ]
    },
    {
      "cell_type": "markdown",
      "metadata": {
        "id": "u3BYczMDo1MO"
      },
      "source": [
        "## Univariate Exploration"
      ]
    },
    {
      "cell_type": "code",
      "source": [
        "# since blue is the most common brand colour for airlines in the usa (https://apex.aero/articles/logochromatic-airline-brand-colors-region/), that would be the main colour\n",
        "main_color = sb.color_palette()[0]"
      ],
      "metadata": {
        "id": "FsPsIFDoV26n"
      },
      "execution_count": 23,
      "outputs": []
    },
    {
      "cell_type": "markdown",
      "source": [
        "## Question: What are the most common states flights depart from? "
      ],
      "metadata": {
        "id": "1t5aVocLP5pn"
      }
    },
    {
      "cell_type": "markdown",
      "source": [
        "## Visualization"
      ],
      "metadata": {
        "id": "rgBsFNboP-qX"
      }
    },
    {
      "cell_type": "code",
      "source": [
        "# selecting the top 10 cities to reduce noise\n",
        "order = flight_dets['Origin'].value_counts()[:10].index"
      ],
      "metadata": {
        "id": "9dsEW7DyXpYp"
      },
      "execution_count": 24,
      "outputs": []
    },
    {
      "cell_type": "code",
      "execution_count": 26,
      "metadata": {
        "id": "xWCGwHLTo1MP",
        "colab": {
          "base_uri": "https://localhost:8080/",
          "height": 295
        },
        "outputId": "cc91caef-7081-4e32-a501-b96e9108f604"
      },
      "outputs": [
        {
          "output_type": "display_data",
          "data": {
            "text/plain": [
              "<Figure size 432x288 with 1 Axes>"
            ],
            "image/png": "[encoded data removed]"
          },
          "metadata": {
            "needs_background": "light"
          }
        }
      ],
      "source": [
        "# plotting the data\n",
        "sb.countplot(data = flight_dets, x = 'Origin', color = main_color, order = order);\n",
        "plt.title(\"Top states flights depart from\")\n",
        "plt.xlabel(\"Origin states (abbr.)\")\n",
        "plt.ylabel(\"Number of flights\");"
      ]
    },
    {
      "cell_type": "markdown",
      "source": [
        "## Observation\n",
        "\n",
        "> Atlanta is the state most flights depart from"
      ],
      "metadata": {
        "id": "WTidvmF2QEkL"
      }
    },
    {
      "cell_type": "markdown",
      "source": [
        "## Question: What are the most common states flights head to?"
      ],
      "metadata": {
        "id": "IjS-JPvwRMq0"
      }
    },
    {
      "cell_type": "markdown",
      "source": [
        "## Visualization"
      ],
      "metadata": {
        "id": "ef_zejBpRMq1"
      }
    },
    {
      "cell_type": "code",
      "execution_count": 27,
      "metadata": {
        "id": "MwPPMaC3RMq2"
      },
      "outputs": [],
      "source": [
        "# selecting the top 10 cities\n",
        "order = flight_dets['Dest'].value_counts()[:10].index"
      ]
    },
    {
      "cell_type": "code",
      "source": [
        "sb.countplot(data = flight_dets, x = 'Dest', color = main_color, order = order);\n",
        "plt.title(\"Top states flights go to\")\n",
        "plt.xlabel(\"Destination states (abbr.)\")\n",
        "plt.ylabel(\"Number of flights\");"
      ],
      "metadata": {
        "colab": {
          "base_uri": "https://localhost:8080/",
          "height": 295
        },
        "id": "l3qgfe_uZ_3T",
        "outputId": "ba9bb9f2-d33a-4537-8a38-df1363592554"
      },
      "execution_count": 28,
      "outputs": [
        {
          "output_type": "display_data",
          "data": {
            "text/plain": [
              "<Figure size 432x288 with 1 Axes>"
            ],
            "image/png": "[encoded data removed]"
          },
          "metadata": {
            "needs_background": "light"
          }
        }
      ]
    },
    {
      "cell_type": "markdown",
      "source": [
        "## Observation\n",
        "\n",
        "> Atlanta is the state most flights return to. Looking back at the visualization of where flights move from, the top 10 cities are the same as this."
      ],
      "metadata": {
        "id": "WM0clzB6RMq2"
      }
    },
    {
      "cell_type": "markdown",
      "source": [
        "## Question: What are the most common airlines for the 2008 flights?"
      ],
      "metadata": {
        "id": "A-uxnltD-iXr"
      }
    },
    {
      "cell_type": "markdown",
      "source": [
        "## Visualization"
      ],
      "metadata": {
        "id": "87er7HD8-yge"
      }
    },
    {
      "cell_type": "code",
      "source": [
        "# selecting the top 10 airlines\n",
        "order = flight_dets['UniqueCarrier'].value_counts()[:10].index\n",
        "sb.countplot(data = flight_dets, x = 'UniqueCarrier', color = main_color, order = order);\n",
        "plt.title(\"Airlines with the most flights\")\n",
        "plt.xlabel(\"Airline carrier codes\")\n",
        "plt.ylabel(\"Number of flights\");"
      ],
      "metadata": {
        "colab": {
          "base_uri": "https://localhost:8080/",
          "height": 295
        },
        "id": "LkCJsmru-1V0",
        "outputId": "18bbc23c-709f-4328-e8ca-81b1f3e2babd"
      },
      "execution_count": 29,
      "outputs": [
        {
          "output_type": "display_data",
          "data": {
            "text/plain": [
              "<Figure size 432x288 with 1 Axes>"
            ],
            "image/png": "[encoded data removed]"
          },
          "metadata": {
            "needs_background": "light"
          }
        }
      ]
    },
    {
      "cell_type": "markdown",
      "source": [
        "## Observation\n",
        "> Southwest Airlines Co. is our most used Airline. American Airlines Inc. comes in second"
      ],
      "metadata": {
        "id": "WU0JGO_T_L6D"
      }
    },
    {
      "cell_type": "markdown",
      "source": [
        "## Question: What month(s) have the most flights?"
      ],
      "metadata": {
        "id": "4Cg1mA-FGm6F"
      }
    },
    {
      "cell_type": "markdown",
      "source": [
        "## Visualization"
      ],
      "metadata": {
        "id": "UUI75aBtGzNd"
      }
    },
    {
      "cell_type": "code",
      "source": [
        "# Extracting the months from the date variable\n",
        "flight_dets['Month'] = flight_dets['Date'].dt.month_name()"
      ],
      "metadata": {
        "id": "iYyE-OopGk9c"
      },
      "execution_count": 30,
      "outputs": []
    },
    {
      "cell_type": "code",
      "source": [
        "# Converting month to categorical variable to ensure order\n",
        "ordered_months = pd.api.types.CategoricalDtype(categories=flight_dets['Month'].unique(), ordered=True)\n",
        "flight_dets['Month'] = flight_dets['Month'].astype(ordered_months)"
      ],
      "metadata": {
        "id": "PoqVtJ0aG1lh"
      },
      "execution_count": 31,
      "outputs": []
    },
    {
      "cell_type": "code",
      "source": [
        "# plotting the data\n",
        "sb.countplot(data = flight_dets, x = 'Month', color = main_color);\n",
        "plt.title(\"Distibution of flights per month\");\n",
        "plt.xlabel(\"Months\");\n",
        "plt.ylabel(\"Number of flights\");"
      ],
      "metadata": {
        "colab": {
          "base_uri": "https://localhost:8080/",
          "height": 295
        },
        "id": "qI2jeX0lIzWD",
        "outputId": "51fcb7fb-825b-4b9a-ef88-de8bba371571"
      },
      "execution_count": 32,
      "outputs": [
        {
          "output_type": "display_data",
          "data": {
            "text/plain": [
              "<Figure size 432x288 with 1 Axes>"
            ],
            "image/png": "[encoded data removed]"
          },
          "metadata": {
            "needs_background": "light"
          }
        }
      ]
    },
    {
      "cell_type": "markdown",
      "source": [
        "## Observation: \n",
        "> March has the most flights, perhaps due to Easter which held on March 23. To confirm if this is true, I'll plot the distribution of flights in March"
      ],
      "metadata": {
        "id": "hTKFOt8oG2Cx"
      }
    },
    {
      "cell_type": "markdown",
      "source": [
        "## Question: Do most of the flights in March occur around Easter (March 16 - March 25)? "
      ],
      "metadata": {
        "id": "8pD_qJNrJ__J"
      }
    },
    {
      "cell_type": "markdown",
      "source": [
        "## Visualization"
      ],
      "metadata": {
        "id": "gfWuDS4lKUY_"
      }
    },
    {
      "cell_type": "code",
      "source": [
        "# making a separate dataframe with the days in March\n",
        "march = flight_dets[(flight_dets['Date'] >= '2008-03-01') & (flight_dets['Date'] < '2008-04-01')]"
      ],
      "metadata": {
        "id": "aygGVVtmKgpQ"
      },
      "execution_count": 33,
      "outputs": []
    },
    {
      "cell_type": "code",
      "source": [
        "march.sort_values(by='Date')"
      ],
      "metadata": {
        "colab": {
          "base_uri": "https://localhost:8080/",
          "height": 661
        },
        "id": "POw8gBzGMpKf",
        "outputId": "4861072e-19dc-4a50-d21d-198ee3122462"
      },
      "execution_count": 34,
      "outputs": [
        {
          "output_type": "execute_result",
          "data": {
            "text/plain": [
              "              Date  DepTime  CRSDepTime  ArrTime  CRSArrTime UniqueCarrier  \\\n",
              "1628055 2008-03-01    607.0         603    729.0         737            NW   \n",
              "1298291 2008-03-01   1247.0        1255   1409.0        1407            XE   \n",
              "1430092 2008-03-01   1732.0        1735   1914.0        1929            UA   \n",
              "1704429 2008-03-01   1454.0        1455   1751.0        1800            AA   \n",
              "1601382 2008-03-01   1146.0        1035   1326.0        1240            MQ   \n",
              "...            ...      ...         ...      ...         ...           ...   \n",
              "1603005 2008-03-31   1141.0        1115   1408.0        1233            NW   \n",
              "1559490 2008-03-31   1716.0        1720   1804.0        1811            HA   \n",
              "1267365 2008-03-31    601.0         600    846.0         835            WN   \n",
              "1267373 2008-03-31   2101.0        2010   2316.0        2230            WN   \n",
              "1700878 2008-03-31   1055.0        1100   1356.0        1400            AA   \n",
              "\n",
              "         FlightNum TailNum  ActualElapsedTime  CRSElapsedTime  ...  Distance  \\\n",
              "1628055       1425  N677MC               82.0            94.0  ...       369   \n",
              "1298291       2304  N14938               82.0            72.0  ...       376   \n",
              "1430092       1427  N460UA              102.0           114.0  ...       602   \n",
              "1704429       2033  N4WYAA              237.0           245.0  ...      1391   \n",
              "1601382       4854  N712AE              100.0           125.0  ...       501   \n",
              "...            ...     ...                ...             ...  ...       ...   \n",
              "1603005        115  N528US              267.0           198.0  ...      1276   \n",
              "1559490        360  N477HA               48.0            51.0  ...       216   \n",
              "1267365        121  N408WN              105.0            95.0  ...       588   \n",
              "1267373        214  N791SW               75.0            80.0  ...       448   \n",
              "1700878       1868  N501AA              121.0           120.0  ...       732   \n",
              "\n",
              "         Cancelled  CancellationCode Diverted CarrierDelay  WeatherDelay  \\\n",
              "1628055          0               NaN        0          NaN           NaN   \n",
              "1298291          0               NaN        0          NaN           NaN   \n",
              "1430092          0               NaN        0          NaN           NaN   \n",
              "1704429          0               NaN        0          NaN           NaN   \n",
              "1601382          0               NaN        0          0.0           0.0   \n",
              "...            ...               ...      ...          ...           ...   \n",
              "1603005          0               NaN        0         23.0           0.0   \n",
              "1559490          0               NaN        0          NaN           NaN   \n",
              "1267365          0               NaN        0          NaN           NaN   \n",
              "1267373          0               NaN        0         13.0           0.0   \n",
              "1700878          0               NaN        0          NaN           NaN   \n",
              "\n",
              "         NASDelay SecurityDelay  LateAircraftDelay  Month  \n",
              "1628055       NaN           NaN                NaN  March  \n",
              "1298291       NaN           NaN                NaN  March  \n",
              "1430092       NaN           NaN                NaN  March  \n",
              "1704429       NaN           NaN                NaN  March  \n",
              "1601382       0.0           0.0               46.0  March  \n",
              "...           ...           ...                ...    ...  \n",
              "1603005      69.0           0.0                3.0  March  \n",
              "1559490       NaN           NaN                NaN  March  \n",
              "1267365       NaN           NaN                NaN  March  \n",
              "1267373       0.0           0.0               33.0  March  \n",
              "1700878       NaN           NaN                NaN  March  \n",
              "\n",
              "[616090 rows x 25 columns]"
            ],
            "text/html": [
              "\n",
              "  <div id=\"df-8c3ee305-a113-4a42-a0c4-96da23b493d4\">\n",
              "    <div class=\"colab-df-container\">\n",
              "      <div>\n",
              "<style scoped>\n",
              "    .dataframe tbody tr th:only-of-type {\n",
              "        vertical-align: middle;\n",
              "    }\n",
              "\n",
              "    .dataframe tbody tr th {\n",
              "        vertical-align: top;\n",
              "    }\n",
              "\n",
              "    .dataframe thead th {\n",
              "        text-align: right;\n",
              "    }\n",
              "</style>\n",
              "<table border=\"1\" class=\"dataframe\">\n",
              "  <thead>\n",
              "    <tr style=\"text-align: right;\">\n",
              "      <th></th>\n",
              "      <th>Date</th>\n",
              "      <th>DepTime</th>\n",
              "      <th>CRSDepTime</th>\n",
              "      <th>ArrTime</th>\n",
              "      <th>CRSArrTime</th>\n",
              "      <th>UniqueCarrier</th>\n",
              "      <th>FlightNum</th>\n",
              "      <th>TailNum</th>\n",
              "      <th>ActualElapsedTime</th>\n",
              "      <th>CRSElapsedTime</th>\n",
              "      <th>...</th>\n",
              "      <th>Distance</th>\n",
              "      <th>Cancelled</th>\n",
              "      <th>CancellationCode</th>\n",
              "      <th>Diverted</th>\n",
              "      <th>CarrierDelay</th>\n",
              "      <th>WeatherDelay</th>\n",
              "      <th>NASDelay</th>\n",
              "      <th>SecurityDelay</th>\n",
              "      <th>LateAircraftDelay</th>\n",
              "      <th>Month</th>\n",
              "    </tr>\n",
              "  </thead>\n",
              "  <tbody>\n",
              "    <tr>\n",
              "      <th>1628055</th>\n",
              "      <td>2008-03-01</td>\n",
              "      <td>607.0</td>\n",
              "      <td>603</td>\n",
              "      <td>729.0</td>\n",
              "      <td>737</td>\n",
              "      <td>NW</td>\n",
              "      <td>1425</td>\n",
              "      <td>N677MC</td>\n",
              "      <td>82.0</td>\n",
              "      <td>94.0</td>\n",
              "      <td>...</td>\n",
              "      <td>369</td>\n",
              "      <td>0</td>\n",
              "      <td>NaN</td>\n",
              "      <td>0</td>\n",
              "      <td>NaN</td>\n",
              "      <td>NaN</td>\n",
              "      <td>NaN</td>\n",
              "      <td>NaN</td>\n",
              "      <td>NaN</td>\n",
              "      <td>March</td>\n",
              "    </tr>\n",
              "    <tr>\n",
              "      <th>1298291</th>\n",
              "      <td>2008-03-01</td>\n",
              "      <td>1247.0</td>\n",
              "      <td>1255</td>\n",
              "      <td>1409.0</td>\n",
              "      <td>1407</td>\n",
              "      <td>XE</td>\n",
              "      <td>2304</td>\n",
              "      <td>N14938</td>\n",
              "      <td>82.0</td>\n",
              "      <td>72.0</td>\n",
              "      <td>...</td>\n",
              "      <td>376</td>\n",
              "      <td>0</td>\n",
              "      <td>NaN</td>\n",
              "      <td>0</td>\n",
              "      <td>NaN</td>\n",
              "      <td>NaN</td>\n",
              "      <td>NaN</td>\n",
              "      <td>NaN</td>\n",
              "      <td>NaN</td>\n",
              "      <td>March</td>\n",
              "    </tr>\n",
              "    <tr>\n",
              "      <th>1430092</th>\n",
              "      <td>2008-03-01</td>\n",
              "      <td>1732.0</td>\n",
              "      <td>1735</td>\n",
              "      <td>1914.0</td>\n",
              "      <td>1929</td>\n",
              "      <td>UA</td>\n",
              "      <td>1427</td>\n",
              "      <td>N460UA</td>\n",
              "      <td>102.0</td>\n",
              "      <td>114.0</td>\n",
              "      <td>...</td>\n",
              "      <td>602</td>\n",
              "      <td>0</td>\n",
              "      <td>NaN</td>\n",
              "      <td>0</td>\n",
              "      <td>NaN</td>\n",
              "      <td>NaN</td>\n",
              "      <td>NaN</td>\n",
              "      <td>NaN</td>\n",
              "      <td>NaN</td>\n",
              "      <td>March</td>\n",
              "    </tr>\n",
              "    <tr>\n",
              "      <th>1704429</th>\n",
              "      <td>2008-03-01</td>\n",
              "      <td>1454.0</td>\n",
              "      <td>1455</td>\n",
              "      <td>1751.0</td>\n",
              "      <td>1800</td>\n",
              "      <td>AA</td>\n",
              "      <td>2033</td>\n",
              "      <td>N4WYAA</td>\n",
              "      <td>237.0</td>\n",
              "      <td>245.0</td>\n",
              "      <td>...</td>\n",
              "      <td>1391</td>\n",
              "      <td>0</td>\n",
              "      <td>NaN</td>\n",
              "      <td>0</td>\n",
              "      <td>NaN</td>\n",
              "      <td>NaN</td>\n",
              "      <td>NaN</td>\n",
              "      <td>NaN</td>\n",
              "      <td>NaN</td>\n",
              "      <td>March</td>\n",
              "    </tr>\n",
              "    <tr>\n",
              "      <th>1601382</th>\n",
              "      <td>2008-03-01</td>\n",
              "      <td>1146.0</td>\n",
              "      <td>1035</td>\n",
              "      <td>1326.0</td>\n",
              "      <td>1240</td>\n",
              "      <td>MQ</td>\n",
              "      <td>4854</td>\n",
              "      <td>N712AE</td>\n",
              "      <td>100.0</td>\n",
              "      <td>125.0</td>\n",
              "      <td>...</td>\n",
              "      <td>501</td>\n",
              "      <td>0</td>\n",
              "      <td>NaN</td>\n",
              "      <td>0</td>\n",
              "      <td>0.0</td>\n",
              "      <td>0.0</td>\n",
              "      <td>0.0</td>\n",
              "      <td>0.0</td>\n",
              "      <td>46.0</td>\n",
              "      <td>March</td>\n",
              "    </tr>\n",
              "    <tr>\n",
              "      <th>...</th>\n",
              "      <td>...</td>\n",
              "      <td>...</td>\n",
              "      <td>...</td>\n",
              "      <td>...</td>\n",
              "      <td>...</td>\n",
              "      <td>...</td>\n",
              "      <td>...</td>\n",
              "      <td>...</td>\n",
              "      <td>...</td>\n",
              "      <td>...</td>\n",
              "      <td>...</td>\n",
              "      <td>...</td>\n",
              "      <td>...</td>\n",
              "      <td>...</td>\n",
              "      <td>...</td>\n",
              "      <td>...</td>\n",
              "      <td>...</td>\n",
              "      <td>...</td>\n",
              "      <td>...</td>\n",
              "      <td>...</td>\n",
              "      <td>...</td>\n",
              "    </tr>\n",
              "    <tr>\n",
              "      <th>1603005</th>\n",
              "      <td>2008-03-31</td>\n",
              "      <td>1141.0</td>\n",
              "      <td>1115</td>\n",
              "      <td>1408.0</td>\n",
              "      <td>1233</td>\n",
              "      <td>NW</td>\n",
              "      <td>115</td>\n",
              "      <td>N528US</td>\n",
              "      <td>267.0</td>\n",
              "      <td>198.0</td>\n",
              "      <td>...</td>\n",
              "      <td>1276</td>\n",
              "      <td>0</td>\n",
              "      <td>NaN</td>\n",
              "      <td>0</td>\n",
              "      <td>23.0</td>\n",
              "      <td>0.0</td>\n",
              "      <td>69.0</td>\n",
              "      <td>0.0</td>\n",
              "      <td>3.0</td>\n",
              "      <td>March</td>\n",
              "    </tr>\n",
              "    <tr>\n",
              "      <th>1559490</th>\n",
              "      <td>2008-03-31</td>\n",
              "      <td>1716.0</td>\n",
              "      <td>1720</td>\n",
              "      <td>1804.0</td>\n",
              "      <td>1811</td>\n",
              "      <td>HA</td>\n",
              "      <td>360</td>\n",
              "      <td>N477HA</td>\n",
              "      <td>48.0</td>\n",
              "      <td>51.0</td>\n",
              "      <td>...</td>\n",
              "      <td>216</td>\n",
              "      <td>0</td>\n",
              "      <td>NaN</td>\n",
              "      <td>0</td>\n",
              "      <td>NaN</td>\n",
              "      <td>NaN</td>\n",
              "      <td>NaN</td>\n",
              "      <td>NaN</td>\n",
              "      <td>NaN</td>\n",
              "      <td>March</td>\n",
              "    </tr>\n",
              "    <tr>\n",
              "      <th>1267365</th>\n",
              "      <td>2008-03-31</td>\n",
              "      <td>601.0</td>\n",
              "      <td>600</td>\n",
              "      <td>846.0</td>\n",
              "      <td>835</td>\n",
              "      <td>WN</td>\n",
              "      <td>121</td>\n",
              "      <td>N408WN</td>\n",
              "      <td>105.0</td>\n",
              "      <td>95.0</td>\n",
              "      <td>...</td>\n",
              "      <td>588</td>\n",
              "      <td>0</td>\n",
              "      <td>NaN</td>\n",
              "      <td>0</td>\n",
              "      <td>NaN</td>\n",
              "      <td>NaN</td>\n",
              "      <td>NaN</td>\n",
              "      <td>NaN</td>\n",
              "      <td>NaN</td>\n",
              "      <td>March</td>\n",
              "    </tr>\n",
              "    <tr>\n",
              "      <th>1267373</th>\n",
              "      <td>2008-03-31</td>\n",
              "      <td>2101.0</td>\n",
              "      <td>2010</td>\n",
              "      <td>2316.0</td>\n",
              "      <td>2230</td>\n",
              "      <td>WN</td>\n",
              "      <td>214</td>\n",
              "      <td>N791SW</td>\n",
              "      <td>75.0</td>\n",
              "      <td>80.0</td>\n",
              "      <td>...</td>\n",
              "      <td>448</td>\n",
              "      <td>0</td>\n",
              "      <td>NaN</td>\n",
              "      <td>0</td>\n",
              "      <td>13.0</td>\n",
              "      <td>0.0</td>\n",
              "      <td>0.0</td>\n",
              "      <td>0.0</td>\n",
              "      <td>33.0</td>\n",
              "      <td>March</td>\n",
              "    </tr>\n",
              "    <tr>\n",
              "      <th>1700878</th>\n",
              "      <td>2008-03-31</td>\n",
              "      <td>1055.0</td>\n",
              "      <td>1100</td>\n",
              "      <td>1356.0</td>\n",
              "      <td>1400</td>\n",
              "      <td>AA</td>\n",
              "      <td>1868</td>\n",
              "      <td>N501AA</td>\n",
              "      <td>121.0</td>\n",
              "      <td>120.0</td>\n",
              "      <td>...</td>\n",
              "      <td>732</td>\n",
              "      <td>0</td>\n",
              "      <td>NaN</td>\n",
              "      <td>0</td>\n",
              "      <td>NaN</td>\n",
              "      <td>NaN</td>\n",
              "      <td>NaN</td>\n",
              "      <td>NaN</td>\n",
              "      <td>NaN</td>\n",
              "      <td>March</td>\n",
              "    </tr>\n",
              "  </tbody>\n",
              "</table>\n",
              "<p>616090 rows × 25 columns</p>\n",
              "</div>\n",
              "      <button class=\"colab-df-convert\" onclick=\"convertToInteractive('df-8c3ee305-a113-4a42-a0c4-96da23b493d4')\"\n",
              "              title=\"Convert this dataframe to an interactive table.\"\n",
              "              style=\"display:none;\">\n",
              "        \n",
              "  <svg xmlns=\"http://www.w3.org/2000/svg\" height=\"24px\"viewBox=\"0 0 24 24\"\n",
              "       width=\"24px\">\n",
              "    <path d=\"M0 0h24v24H0V0z\" fill=\"none\"/>\n",
              "    <path d=\"M18.56 5.44l.94 2.06.94-2.06 2.06-.94-2.06-.94-.94-2.06-.94 2.06-2.06.94zm-11 1L8.5 8.5l.94-2.06 2.06-.94-2.06-.94L8.5 2.5l-.94 2.06-2.06.94zm10 10l.94 2.06.94-2.06 2.06-.94-2.06-.94-.94-2.06-.94 2.06-2.06.94z\"/><path d=\"M17.41 7.96l-1.37-1.37c-.4-.4-.92-.59-1.43-.59-.52 0-1.04.2-1.43.59L10.3 9.45l-7.72 7.72c-.78.78-.78 2.05 0 2.83L4 21.41c.39.39.9.59 1.41.59.51 0 1.02-.2 1.41-.59l7.78-7.78 2.81-2.81c.8-.78.8-2.07 0-2.86zM5.41 20L4 18.59l7.72-7.72 1.47 1.35L5.41 20z\"/>\n",
              "  </svg>\n",
              "      </button>\n",
              "      \n",
              "  <style>\n",
              "    .colab-df-container {\n",
              "      display:flex;\n",
              "      flex-wrap:wrap;\n",
              "      gap: 12px;\n",
              "    }\n",
              "\n",
              "    .colab-df-convert {\n",
              "      background-color: #E8F0FE;\n",
              "      border: none;\n",
              "      border-radius: 50%;\n",
              "      cursor: pointer;\n",
              "      display: none;\n",
              "      fill: #1967D2;\n",
              "      height: 32px;\n",
              "      padding: 0 0 0 0;\n",
              "      width: 32px;\n",
              "    }\n",
              "\n",
              "    .colab-df-convert:hover {\n",
              "      background-color: #E2EBFA;\n",
              "      box-shadow: 0px 1px 2px rgba(60, 64, 67, 0.3), 0px 1px 3px 1px rgba(60, 64, 67, 0.15);\n",
              "      fill: #174EA6;\n",
              "    }\n",
              "\n",
              "    [theme=dark] .colab-df-convert {\n",
              "      background-color: #3B4455;\n",
              "      fill: #D2E3FC;\n",
              "    }\n",
              "\n",
              "    [theme=dark] .colab-df-convert:hover {\n",
              "      background-color: #434B5C;\n",
              "      box-shadow: 0px 1px 3px 1px rgba(0, 0, 0, 0.15);\n",
              "      filter: drop-shadow(0px 1px 2px rgba(0, 0, 0, 0.3));\n",
              "      fill: #FFFFFF;\n",
              "    }\n",
              "  </style>\n",
              "\n",
              "      <script>\n",
              "        const buttonEl =\n",
              "          document.querySelector('#df-8c3ee305-a113-4a42-a0c4-96da23b493d4 button.colab-df-convert');\n",
              "        buttonEl.style.display =\n",
              "          google.colab.kernel.accessAllowed ? 'block' : 'none';\n",
              "\n",
              "        async function convertToInteractive(key) {\n",
              "          const element = document.querySelector('#df-8c3ee305-a113-4a42-a0c4-96da23b493d4');\n",
              "          const dataTable =\n",
              "            await google.colab.kernel.invokeFunction('convertToInteractive',\n",
              "                                                     [key], {});\n",
              "          if (!dataTable) return;\n",
              "\n",
              "          const docLinkHtml = 'Like what you see? Visit the ' +\n",
              "            '<a target=\"_blank\" href=https://colab.research.google.com/notebooks/data_table.ipynb>data table notebook</a>'\n",
              "            + ' to learn more about interactive tables.';\n",
              "          element.innerHTML = '';\n",
              "          dataTable['output_type'] = 'display_data';\n",
              "          await google.colab.output.renderOutput(dataTable, element);\n",
              "          const docLink = document.createElement('div');\n",
              "          docLink.innerHTML = docLinkHtml;\n",
              "          element.appendChild(docLink);\n",
              "        }\n",
              "      </script>\n",
              "    </div>\n",
              "  </div>\n",
              "  "
            ]
          },
          "metadata": {},
          "execution_count": 34
        }
      ]
    },
    {
      "cell_type": "code",
      "source": [
        "# plotting the data\n",
        "march.groupby(march['Date'])['UniqueCarrier'].size().plot();\n",
        "plt.title(\"Distibution of flights in March\")\n",
        "plt.xlabel(\"Days\")\n",
        "plt.ylabel(\"Number of flights\");"
      ],
      "metadata": {
        "colab": {
          "base_uri": "https://localhost:8080/",
          "height": 330
        },
        "id": "Y9so4WLPL1Q1",
        "outputId": "bb0abc31-3f57-41b3-e18a-e38b06371073"
      },
      "execution_count": 35,
      "outputs": [
        {
          "output_type": "display_data",
          "data": {
            "text/plain": [
              "<Figure size 432x288 with 1 Axes>"
            ],
            "image/png": "[encoded data removed]"
          },
          "metadata": {
            "needs_background": "light"
          }
        }
      ]
    },
    {
      "cell_type": "markdown",
      "source": [
        "## Observation: \n",
        "> The distribution is fairly the same throughout the month"
      ],
      "metadata": {
        "id": "NyLfEtW7z6wM"
      }
    },
    {
      "cell_type": "markdown",
      "source": [
        "## Question: Were the flights over more longer distances than short distances?"
      ],
      "metadata": {
        "id": "_gWkQQ2QLzKp"
      }
    },
    {
      "cell_type": "markdown",
      "source": [
        "## Visualization"
      ],
      "metadata": {
        "id": "SEAXHWm9MHMm"
      }
    },
    {
      "cell_type": "code",
      "source": [
        "plt.hist(flight_dets['Distance'], bins=20, color=main_color);\n",
        "plt.title(\"Distibution of distances covered\")\n",
        "plt.xlabel(\"Distance (miles)\")\n",
        "plt.ylabel(\"Number of flights (reduced by 100000)\");"
      ],
      "metadata": {
        "colab": {
          "base_uri": "https://localhost:8080/",
          "height": 295
        },
        "id": "0SjZ_h3oMJS8",
        "outputId": "c3f3d86d-94a5-4934-88a7-bdffdf94bc9a"
      },
      "execution_count": 56,
      "outputs": [
        {
          "output_type": "display_data",
          "data": {
            "text/plain": [
              "<Figure size 432x288 with 1 Axes>"
            ],
            "image/png": "[encoded data removed]"
          },
          "metadata": {
            "needs_background": "light"
          }
        }
      ]
    },
    {
      "cell_type": "markdown",
      "source": [
        "## Observation\n",
        "> Most flights covered short distances (< 1000 miles)"
      ],
      "metadata": {
        "id": "kWU-L2-kMZs5"
      }
    },
    {
      "cell_type": "markdown",
      "source": [
        "## Question: Did the 2008 flights have more short delays than long delays?"
      ],
      "metadata": {
        "id": "T98VlOpMRPxY"
      }
    },
    {
      "cell_type": "markdown",
      "source": [
        "## Visualization"
      ],
      "metadata": {
        "id": "k45j3BtgRPxZ"
      }
    },
    {
      "cell_type": "code",
      "execution_count": 36,
      "metadata": {
        "id": "GtgTsq7JRPxa"
      },
      "outputs": [],
      "source": [
        "# creating new variable calculating the delay time in minutes\n",
        "flight_dets['delay_time'] = flight_dets['ActualElapsedTime'] - flight_dets['CRSElapsedTime']"
      ]
    },
    {
      "cell_type": "code",
      "source": [
        "flight_dets['delay_time'].describe()"
      ],
      "metadata": {
        "colab": {
          "base_uri": "https://localhost:8080/"
        },
        "id": "p101b_V_7UpZ",
        "outputId": "6c0bbc8a-cfe3-4e20-e081-605f0920855f"
      },
      "execution_count": 37,
      "outputs": [
        {
          "output_type": "execute_result",
          "data": {
            "text/plain": [
              "count    2.319117e+06\n",
              "mean    -1.115588e+00\n",
              "std      1.420628e+01\n",
              "min     -1.510000e+02\n",
              "25%     -9.000000e+00\n",
              "50%     -3.000000e+00\n",
              "75%      5.000000e+00\n",
              "max      5.700000e+02\n",
              "Name: delay_time, dtype: float64"
            ]
          },
          "metadata": {},
          "execution_count": 37
        }
      ]
    },
    {
      "cell_type": "code",
      "source": [
        "# plotting the data\n",
        "plt.hist(flight_dets['delay_time'], bins=10, color=main_color);\n",
        "plt.title(\"Distibution of delay times\")\n",
        "plt.xlabel(\"Delay (minutes)\")\n",
        "plt.ylabel(\"Frequency of flights (reduced by 100000)\");"
      ],
      "metadata": {
        "colab": {
          "base_uri": "https://localhost:8080/",
          "height": 295
        },
        "id": "8sZqICw97VGn",
        "outputId": "852f7f52-58e6-4e41-943f-484fbf521f34"
      },
      "execution_count": 42,
      "outputs": [
        {
          "output_type": "display_data",
          "data": {
            "text/plain": [
              "<Figure size 432x288 with 1 Axes>"
            ],
            "image/png": "[encoded data removed]"
          },
          "metadata": {
            "needs_background": "light"
          }
        }
      ]
    },
    {
      "cell_type": "code",
      "source": [
        "# zooming in on the peak\n",
        "bins = np.arange(-100, 200 + 10, 10)\n",
        "plt.hist(flight_dets['delay_time'], bins=bins, color=main_color);\n",
        "plt.title(\"Distibution of delay times\")\n",
        "plt.xlabel(\"Delay (minutes)\")\n",
        "plt.ylabel(\"Frequency of flights (reduced by 100000)\");"
      ],
      "metadata": {
        "colab": {
          "base_uri": "https://localhost:8080/",
          "height": 295
        },
        "id": "b7AvB5wxyEJv",
        "outputId": "1607b28a-95ec-4445-a761-a0063f68dc49"
      },
      "execution_count": 43,
      "outputs": [
        {
          "output_type": "display_data",
          "data": {
            "text/plain": [
              "<Figure size 432x288 with 1 Axes>"
            ],
            "image/png": "[encoded data removed]"
          },
          "metadata": {
            "needs_background": "light"
          }
        }
      ]
    },
    {
      "cell_type": "markdown",
      "source": [
        "## Observation\n",
        "> More than 100,000 flights were earlier than expected and long delays over 50 minutes are less frequent"
      ],
      "metadata": {
        "id": "b0huprfxRPxa"
      }
    },
    {
      "cell_type": "markdown",
      "source": [
        "## Question: What type of delay caused the most delays?"
      ],
      "metadata": {
        "id": "vHE4nMPY0P85"
      }
    },
    {
      "cell_type": "markdown",
      "source": [
        "## Visualization"
      ],
      "metadata": {
        "id": "GTP8aDfl0YfK"
      }
    },
    {
      "cell_type": "code",
      "source": [
        "# statistical description of the numerical variables\n",
        "flight_dets.describe()"
      ],
      "metadata": {
        "colab": {
          "base_uri": "https://localhost:8080/",
          "height": 364
        },
        "id": "oMhmu5poV4QM",
        "outputId": "151ee252-515e-4cfb-c820-75bedeb1a127"
      },
      "execution_count": 44,
      "outputs": [
        {
          "output_type": "execute_result",
          "data": {
            "text/plain": [
              "            DepTime    CRSDepTime       ArrTime    CRSArrTime     FlightNum  \\\n",
              "count  2.324771e+06  2.389213e+06  2.319117e+06  2.389213e+06  2.389213e+06   \n",
              "mean   1.340018e+03  1.329992e+03  1.485835e+03  1.496744e+03  2.213890e+03   \n",
              "std    4.802717e+02  4.657833e+02  5.081295e+02  4.845238e+02  1.951393e+03   \n",
              "min    1.000000e+00  0.000000e+00  1.000000e+00  1.000000e+00  1.000000e+00   \n",
              "25%    9.300000e+02  9.270000e+02  1.110000e+03  1.115000e+03  6.050000e+02   \n",
              "50%    1.330000e+03  1.325000e+03  1.516000e+03  1.520000e+03  1.544000e+03   \n",
              "75%    1.733000e+03  1.720000e+03  1.914000e+03  1.910000e+03  3.631000e+03   \n",
              "max    2.400000e+03  2.359000e+03  2.400000e+03  2.400000e+03  9.741000e+03   \n",
              "\n",
              "       ActualElapsedTime  CRSElapsedTime       AirTime      ArrDelay  \\\n",
              "count       2.319117e+06    2.388806e+06  2.319117e+06  2.319117e+06   \n",
              "mean        1.286188e+02    1.293775e+02  1.051016e+02  1.027355e+01   \n",
              "std         7.025303e+01    6.948246e+01  6.766801e+01  3.963431e+01   \n",
              "min         1.400000e+01   -2.500000e+01  0.000000e+00 -9.100000e+01   \n",
              "25%         7.800000e+01    8.000000e+01  5.600000e+01 -9.000000e+00   \n",
              "50%         1.110000e+02    1.110000e+02  8.700000e+01  0.000000e+00   \n",
              "75%         1.600000e+02    1.600000e+02  1.340000e+02  1.500000e+01   \n",
              "max         9.050000e+02    1.435000e+03  8.860000e+02  2.461000e+03   \n",
              "\n",
              "           DepDelay      Distance     Cancelled      Diverted   CarrierDelay  \\\n",
              "count  2.324771e+06  2.389213e+06  2.389213e+06  2.389213e+06  584581.000000   \n",
              "mean   1.143634e+01  7.261584e+02  2.697206e-02  2.366470e-03      15.752934   \n",
              "std    3.653231e+01  5.571763e+02  1.620018e-01  4.858879e-02      40.035534   \n",
              "min   -9.200000e+01  1.700000e+01  0.000000e+00  0.000000e+00       0.000000   \n",
              "25%   -4.000000e+00  3.250000e+02  0.000000e+00  0.000000e+00       0.000000   \n",
              "50%    0.000000e+00  5.830000e+02  0.000000e+00  0.000000e+00       0.000000   \n",
              "75%    1.100000e+01  9.570000e+02  0.000000e+00  0.000000e+00      16.000000   \n",
              "max    2.467000e+03  4.962000e+03  1.000000e+00  1.000000e+00    2436.000000   \n",
              "\n",
              "        WeatherDelay       NASDelay  SecurityDelay  LateAircraftDelay  \\\n",
              "count  584581.000000  584581.000000  584581.000000      584581.000000   \n",
              "mean        2.938253      16.158442       0.080459          20.976782   \n",
              "std        19.166694      30.534190       1.742582          38.617200   \n",
              "min         0.000000       0.000000       0.000000           0.000000   \n",
              "25%         0.000000       0.000000       0.000000           0.000000   \n",
              "50%         0.000000       5.000000       0.000000           0.000000   \n",
              "75%         0.000000      20.000000       0.000000          27.000000   \n",
              "max      1148.000000    1357.000000     392.000000        1254.000000   \n",
              "\n",
              "         delay_time  \n",
              "count  2.319117e+06  \n",
              "mean  -1.115588e+00  \n",
              "std    1.420628e+01  \n",
              "min   -1.510000e+02  \n",
              "25%   -9.000000e+00  \n",
              "50%   -3.000000e+00  \n",
              "75%    5.000000e+00  \n",
              "max    5.700000e+02  "
            ],
            "text/html": [
              "\n",
              "  <div id=\"df-ff692b5e-6656-48e8-9fcd-1c1d2a14791a\">\n",
              "    <div class=\"colab-df-container\">\n",
              "      <div>\n",
              "<style scoped>\n",
              "    .dataframe tbody tr th:only-of-type {\n",
              "        vertical-align: middle;\n",
              "    }\n",
              "\n",
              "    .dataframe tbody tr th {\n",
              "        vertical-align: top;\n",
              "    }\n",
              "\n",
              "    .dataframe thead th {\n",
              "        text-align: right;\n",
              "    }\n",
              "</style>\n",
              "<table border=\"1\" class=\"dataframe\">\n",
              "  <thead>\n",
              "    <tr style=\"text-align: right;\">\n",
              "      <th></th>\n",
              "      <th>DepTime</th>\n",
              "      <th>CRSDepTime</th>\n",
              "      <th>ArrTime</th>\n",
              "      <th>CRSArrTime</th>\n",
              "      <th>FlightNum</th>\n",
              "      <th>ActualElapsedTime</th>\n",
              "      <th>CRSElapsedTime</th>\n",
              "      <th>AirTime</th>\n",
              "      <th>ArrDelay</th>\n",
              "      <th>DepDelay</th>\n",
              "      <th>Distance</th>\n",
              "      <th>Cancelled</th>\n",
              "      <th>Diverted</th>\n",
              "      <th>CarrierDelay</th>\n",
              "      <th>WeatherDelay</th>\n",
              "      <th>NASDelay</th>\n",
              "      <th>SecurityDelay</th>\n",
              "      <th>LateAircraftDelay</th>\n",
              "      <th>delay_time</th>\n",
              "    </tr>\n",
              "  </thead>\n",
              "  <tbody>\n",
              "    <tr>\n",
              "      <th>count</th>\n",
              "      <td>2.324771e+06</td>\n",
              "      <td>2.389213e+06</td>\n",
              "      <td>2.319117e+06</td>\n",
              "      <td>2.389213e+06</td>\n",
              "      <td>2.389213e+06</td>\n",
              "      <td>2.319117e+06</td>\n",
              "      <td>2.388806e+06</td>\n",
              "      <td>2.319117e+06</td>\n",
              "      <td>2.319117e+06</td>\n",
              "      <td>2.324771e+06</td>\n",
              "      <td>2.389213e+06</td>\n",
              "      <td>2.389213e+06</td>\n",
              "      <td>2.389213e+06</td>\n",
              "      <td>584581.000000</td>\n",
              "      <td>584581.000000</td>\n",
              "      <td>584581.000000</td>\n",
              "      <td>584581.000000</td>\n",
              "      <td>584581.000000</td>\n",
              "      <td>2.319117e+06</td>\n",
              "    </tr>\n",
              "    <tr>\n",
              "      <th>mean</th>\n",
              "      <td>1.340018e+03</td>\n",
              "      <td>1.329992e+03</td>\n",
              "      <td>1.485835e+03</td>\n",
              "      <td>1.496744e+03</td>\n",
              "      <td>2.213890e+03</td>\n",
              "      <td>1.286188e+02</td>\n",
              "      <td>1.293775e+02</td>\n",
              "      <td>1.051016e+02</td>\n",
              "      <td>1.027355e+01</td>\n",
              "      <td>1.143634e+01</td>\n",
              "      <td>7.261584e+02</td>\n",
              "      <td>2.697206e-02</td>\n",
              "      <td>2.366470e-03</td>\n",
              "      <td>15.752934</td>\n",
              "      <td>2.938253</td>\n",
              "      <td>16.158442</td>\n",
              "      <td>0.080459</td>\n",
              "      <td>20.976782</td>\n",
              "      <td>-1.115588e+00</td>\n",
              "    </tr>\n",
              "    <tr>\n",
              "      <th>std</th>\n",
              "      <td>4.802717e+02</td>\n",
              "      <td>4.657833e+02</td>\n",
              "      <td>5.081295e+02</td>\n",
              "      <td>4.845238e+02</td>\n",
              "      <td>1.951393e+03</td>\n",
              "      <td>7.025303e+01</td>\n",
              "      <td>6.948246e+01</td>\n",
              "      <td>6.766801e+01</td>\n",
              "      <td>3.963431e+01</td>\n",
              "      <td>3.653231e+01</td>\n",
              "      <td>5.571763e+02</td>\n",
              "      <td>1.620018e-01</td>\n",
              "      <td>4.858879e-02</td>\n",
              "      <td>40.035534</td>\n",
              "      <td>19.166694</td>\n",
              "      <td>30.534190</td>\n",
              "      <td>1.742582</td>\n",
              "      <td>38.617200</td>\n",
              "      <td>1.420628e+01</td>\n",
              "    </tr>\n",
              "    <tr>\n",
              "      <th>min</th>\n",
              "      <td>1.000000e+00</td>\n",
              "      <td>0.000000e+00</td>\n",
              "      <td>1.000000e+00</td>\n",
              "      <td>1.000000e+00</td>\n",
              "      <td>1.000000e+00</td>\n",
              "      <td>1.400000e+01</td>\n",
              "      <td>-2.500000e+01</td>\n",
              "      <td>0.000000e+00</td>\n",
              "      <td>-9.100000e+01</td>\n",
              "      <td>-9.200000e+01</td>\n",
              "      <td>1.700000e+01</td>\n",
              "      <td>0.000000e+00</td>\n",
              "      <td>0.000000e+00</td>\n",
              "      <td>0.000000</td>\n",
              "      <td>0.000000</td>\n",
              "      <td>0.000000</td>\n",
              "      <td>0.000000</td>\n",
              "      <td>0.000000</td>\n",
              "      <td>-1.510000e+02</td>\n",
              "    </tr>\n",
              "    <tr>\n",
              "      <th>25%</th>\n",
              "      <td>9.300000e+02</td>\n",
              "      <td>9.270000e+02</td>\n",
              "      <td>1.110000e+03</td>\n",
              "      <td>1.115000e+03</td>\n",
              "      <td>6.050000e+02</td>\n",
              "      <td>7.800000e+01</td>\n",
              "      <td>8.000000e+01</td>\n",
              "      <td>5.600000e+01</td>\n",
              "      <td>-9.000000e+00</td>\n",
              "      <td>-4.000000e+00</td>\n",
              "      <td>3.250000e+02</td>\n",
              "      <td>0.000000e+00</td>\n",
              "      <td>0.000000e+00</td>\n",
              "      <td>0.000000</td>\n",
              "      <td>0.000000</td>\n",
              "      <td>0.000000</td>\n",
              "      <td>0.000000</td>\n",
              "      <td>0.000000</td>\n",
              "      <td>-9.000000e+00</td>\n",
              "    </tr>\n",
              "    <tr>\n",
              "      <th>50%</th>\n",
              "      <td>1.330000e+03</td>\n",
              "      <td>1.325000e+03</td>\n",
              "      <td>1.516000e+03</td>\n",
              "      <td>1.520000e+03</td>\n",
              "      <td>1.544000e+03</td>\n",
              "      <td>1.110000e+02</td>\n",
              "      <td>1.110000e+02</td>\n",
              "      <td>8.700000e+01</td>\n",
              "      <td>0.000000e+00</td>\n",
              "      <td>0.000000e+00</td>\n",
              "      <td>5.830000e+02</td>\n",
              "      <td>0.000000e+00</td>\n",
              "      <td>0.000000e+00</td>\n",
              "      <td>0.000000</td>\n",
              "      <td>0.000000</td>\n",
              "      <td>5.000000</td>\n",
              "      <td>0.000000</td>\n",
              "      <td>0.000000</td>\n",
              "      <td>-3.000000e+00</td>\n",
              "    </tr>\n",
              "    <tr>\n",
              "      <th>75%</th>\n",
              "      <td>1.733000e+03</td>\n",
              "      <td>1.720000e+03</td>\n",
              "      <td>1.914000e+03</td>\n",
              "      <td>1.910000e+03</td>\n",
              "      <td>3.631000e+03</td>\n",
              "      <td>1.600000e+02</td>\n",
              "      <td>1.600000e+02</td>\n",
              "      <td>1.340000e+02</td>\n",
              "      <td>1.500000e+01</td>\n",
              "      <td>1.100000e+01</td>\n",
              "      <td>9.570000e+02</td>\n",
              "      <td>0.000000e+00</td>\n",
              "      <td>0.000000e+00</td>\n",
              "      <td>16.000000</td>\n",
              "      <td>0.000000</td>\n",
              "      <td>20.000000</td>\n",
              "      <td>0.000000</td>\n",
              "      <td>27.000000</td>\n",
              "      <td>5.000000e+00</td>\n",
              "    </tr>\n",
              "    <tr>\n",
              "      <th>max</th>\n",
              "      <td>2.400000e+03</td>\n",
              "      <td>2.359000e+03</td>\n",
              "      <td>2.400000e+03</td>\n",
              "      <td>2.400000e+03</td>\n",
              "      <td>9.741000e+03</td>\n",
              "      <td>9.050000e+02</td>\n",
              "      <td>1.435000e+03</td>\n",
              "      <td>8.860000e+02</td>\n",
              "      <td>2.461000e+03</td>\n",
              "      <td>2.467000e+03</td>\n",
              "      <td>4.962000e+03</td>\n",
              "      <td>1.000000e+00</td>\n",
              "      <td>1.000000e+00</td>\n",
              "      <td>2436.000000</td>\n",
              "      <td>1148.000000</td>\n",
              "      <td>1357.000000</td>\n",
              "      <td>392.000000</td>\n",
              "      <td>1254.000000</td>\n",
              "      <td>5.700000e+02</td>\n",
              "    </tr>\n",
              "  </tbody>\n",
              "</table>\n",
              "</div>\n",
              "      <button class=\"colab-df-convert\" onclick=\"convertToInteractive('df-ff692b5e-6656-48e8-9fcd-1c1d2a14791a')\"\n",
              "              title=\"Convert this dataframe to an interactive table.\"\n",
              "              style=\"display:none;\">\n",
              "        \n",
              "  <svg xmlns=\"http://www.w3.org/2000/svg\" height=\"24px\"viewBox=\"0 0 24 24\"\n",
              "       width=\"24px\">\n",
              "    <path d=\"M0 0h24v24H0V0z\" fill=\"none\"/>\n",
              "    <path d=\"M18.56 5.44l.94 2.06.94-2.06 2.06-.94-2.06-.94-.94-2.06-.94 2.06-2.06.94zm-11 1L8.5 8.5l.94-2.06 2.06-.94-2.06-.94L8.5 2.5l-.94 2.06-2.06.94zm10 10l.94 2.06.94-2.06 2.06-.94-2.06-.94-.94-2.06-.94 2.06-2.06.94z\"/><path d=\"M17.41 7.96l-1.37-1.37c-.4-.4-.92-.59-1.43-.59-.52 0-1.04.2-1.43.59L10.3 9.45l-7.72 7.72c-.78.78-.78 2.05 0 2.83L4 21.41c.39.39.9.59 1.41.59.51 0 1.02-.2 1.41-.59l7.78-7.78 2.81-2.81c.8-.78.8-2.07 0-2.86zM5.41 20L4 18.59l7.72-7.72 1.47 1.35L5.41 20z\"/>\n",
              "  </svg>\n",
              "      </button>\n",
              "      \n",
              "  <style>\n",
              "    .colab-df-container {\n",
              "      display:flex;\n",
              "      flex-wrap:wrap;\n",
              "      gap: 12px;\n",
              "    }\n",
              "\n",
              "    .colab-df-convert {\n",
              "      background-color: #E8F0FE;\n",
              "      border: none;\n",
              "      border-radius: 50%;\n",
              "      cursor: pointer;\n",
              "      display: none;\n",
              "      fill: #1967D2;\n",
              "      height: 32px;\n",
              "      padding: 0 0 0 0;\n",
              "      width: 32px;\n",
              "    }\n",
              "\n",
              "    .colab-df-convert:hover {\n",
              "      background-color: #E2EBFA;\n",
              "      box-shadow: 0px 1px 2px rgba(60, 64, 67, 0.3), 0px 1px 3px 1px rgba(60, 64, 67, 0.15);\n",
              "      fill: #174EA6;\n",
              "    }\n",
              "\n",
              "    [theme=dark] .colab-df-convert {\n",
              "      background-color: #3B4455;\n",
              "      fill: #D2E3FC;\n",
              "    }\n",
              "\n",
              "    [theme=dark] .colab-df-convert:hover {\n",
              "      background-color: #434B5C;\n",
              "      box-shadow: 0px 1px 3px 1px rgba(0, 0, 0, 0.15);\n",
              "      filter: drop-shadow(0px 1px 2px rgba(0, 0, 0, 0.3));\n",
              "      fill: #FFFFFF;\n",
              "    }\n",
              "  </style>\n",
              "\n",
              "      <script>\n",
              "        const buttonEl =\n",
              "          document.querySelector('#df-ff692b5e-6656-48e8-9fcd-1c1d2a14791a button.colab-df-convert');\n",
              "        buttonEl.style.display =\n",
              "          google.colab.kernel.accessAllowed ? 'block' : 'none';\n",
              "\n",
              "        async function convertToInteractive(key) {\n",
              "          const element = document.querySelector('#df-ff692b5e-6656-48e8-9fcd-1c1d2a14791a');\n",
              "          const dataTable =\n",
              "            await google.colab.kernel.invokeFunction('convertToInteractive',\n",
              "                                                     [key], {});\n",
              "          if (!dataTable) return;\n",
              "\n",
              "          const docLinkHtml = 'Like what you see? Visit the ' +\n",
              "            '<a target=\"_blank\" href=https://colab.research.google.com/notebooks/data_table.ipynb>data table notebook</a>'\n",
              "            + ' to learn more about interactive tables.';\n",
              "          element.innerHTML = '';\n",
              "          dataTable['output_type'] = 'display_data';\n",
              "          await google.colab.output.renderOutput(dataTable, element);\n",
              "          const docLink = document.createElement('div');\n",
              "          docLink.innerHTML = docLinkHtml;\n",
              "          element.appendChild(docLink);\n",
              "        }\n",
              "      </script>\n",
              "    </div>\n",
              "  </div>\n",
              "  "
            ]
          },
          "metadata": {},
          "execution_count": 44
        }
      ]
    },
    {
      "cell_type": "code",
      "source": [
        "# plotting the distribution of each delay cause\n",
        "fig, ax = plt.subplots(nrows=5, figsize = [10, 20])\n",
        "variables = ['CarrierDelay', 'WeatherDelay', 'NASDelay', 'SecurityDelay', 'LateAircraftDelay']\n",
        "ticks = [0, 100, 200, 500, 1000, 2000, 3000]\n",
        "\n",
        "for _ in range(len(variables)):\n",
        "  var = variables[_]\n",
        "  bins = np.arange(min(flight_dets[var]), max(flight_dets[var]) + 20, 20)\n",
        "  ax[_].hist(data = flight_dets, x = var, bins = bins)\n",
        "  ax[_].set_xlabel('{} (minutes)'.format(var))\n",
        "  ax[_].set_xticks(ticks, [0, 100, 200, 500, '1k', '2k', '3k'])\n",
        "\n",
        "plt.show()"
      ],
      "metadata": {
        "colab": {
          "base_uri": "https://localhost:8080/",
          "height": 1000
        },
        "id": "qppeMi9c0a86",
        "outputId": "b1273142-a2d3-4964-dda0-13f7aa2617a8"
      },
      "execution_count": 52,
      "outputs": [
        {
          "output_type": "display_data",
          "data": {
            "text/plain": [
              "<Figure size 720x1440 with 5 Axes>"
            ],
            "image/png": "[encoded data removed]"
          },
          "metadata": {
            "needs_background": "light"
          }
        }
      ]
    },
    {
      "cell_type": "code",
      "source": [
        "# zooming in on the distributions\n",
        "fig, ax = plt.subplots(nrows=5, figsize = [10, 20])\n",
        "variables = ['CarrierDelay', 'WeatherDelay', 'NASDelay', 'SecurityDelay', 'LateAircraftDelay']\n",
        "ticks = [0, 100, 200, 300]\n",
        "\n",
        "for _ in range(len(variables)):\n",
        "  var = variables[_]\n",
        "  bins = np.arange(min(flight_dets[var]), 300 + 10, 10)\n",
        "  ax[_].hist(data = flight_dets, x = var, bins = bins)\n",
        "  ax[_].set_xlabel('{} (minutes)'.format(var))\n",
        "  ax[_].set_xticks(ticks)\n",
        "\n",
        "plt.show()"
      ],
      "metadata": {
        "colab": {
          "base_uri": "https://localhost:8080/",
          "height": 1000
        },
        "id": "RggN7uHS0beP",
        "outputId": "47b96e56-742e-4d6a-a2ee-ecb056a7f0e4"
      },
      "execution_count": 54,
      "outputs": [
        {
          "output_type": "display_data",
          "data": {
            "text/plain": [
              "<Figure size 720x1440 with 5 Axes>"
            ],
            "image/png": "[encoded data removed]"
          },
          "metadata": {
            "needs_background": "light"
          }
        }
      ]
    },
    {
      "cell_type": "markdown",
      "source": [
        "## Observation\n",
        "> Security delays are the least common cause of delays  \n",
        "> Late aircrafts are the most common delay causes followed by the National Airport System delays"
      ],
      "metadata": {
        "id": "1hxrXcKk0eXs"
      }
    },
    {
      "cell_type": "markdown",
      "metadata": {
        "id": "vzK62m1Mo1MS"
      },
      "source": [
        "### Discuss the distribution(s) of your variable(s) of interest. Were there any unusual points? Did you need to perform any transformations?\n",
        "\n",
        "> Unexpectedly I noticed\n",
        "> - The flights covered more short distances (< 1000 miles)\n",
        "> - Most of the flights were in fact earlier than expected\n",
        "> - Late aircrafts were the most common causes of delays.  \n",
        "\n",
        "> I only needed to perform scaling transforms to zoom into the distributions of the numerical variables\n",
        "\n",
        "### Of the features you investigated, were there any unusual distributions? Did you perform any operations on the data to tidy, adjust, or change the form of the data? If so, why did you do this?\n",
        "\n",
        "> When investigating the numerical variables, `Distance`, `delay_time` and the delay causes, I noticed a number of outliers. Hence, I focused on the rest."
      ]
    },
    {
      "cell_type": "markdown",
      "metadata": {
        "id": "IXscf7-Ko1MS"
      },
      "source": [
        "## Bivariate Exploration\n",
        "\n"
      ]
    },
    {
      "cell_type": "markdown",
      "source": [
        "## Question: What months have the most delays?"
      ],
      "metadata": {
        "id": "eB4XTdnOeHAk"
      }
    },
    {
      "cell_type": "markdown",
      "source": [
        "## Visualization"
      ],
      "metadata": {
        "id": "X7iO5dzoeKnc"
      }
    },
    {
      "cell_type": "code",
      "source": [
        "# plotting the data\n",
        "sb.violinplot(data=flight_dets, x='Month', y='delay_time', color=main_color, inner=None);\n",
        "plt.title('Distribution of delay times per Month')\n",
        "plt.xlabel('Months')\n",
        "plt.ylabel('Delay time (minutes)');"
      ],
      "metadata": {
        "colab": {
          "base_uri": "https://localhost:8080/",
          "height": 295
        },
        "id": "vP22I8u0gYxp",
        "outputId": "716d2116-bdbe-4670-ae90-90d5fb35d3d6"
      },
      "execution_count": 76,
      "outputs": [
        {
          "output_type": "display_data",
          "data": {
            "text/plain": [
              "<Figure size 432x288 with 1 Axes>"
            ],
            "image/png": "[encoded data removed]"
          },
          "metadata": {
            "needs_background": "light"
          }
        }
      ]
    },
    {
      "cell_type": "markdown",
      "source": [
        "## Observation\n",
        "\n",
        "Most of the flights in all the months are either on-time or earlier than expected. However, April has the most delays"
      ],
      "metadata": {
        "id": "oHfT7rONeNHt"
      }
    },
    {
      "cell_type": "markdown",
      "source": [
        "## Question: Are some flights associated with more delays "
      ],
      "metadata": {
        "id": "sMCk9ZXAec4P"
      }
    },
    {
      "cell_type": "markdown",
      "source": [
        "## Visualization"
      ],
      "metadata": {
        "id": "69eUKjnMec4Q"
      }
    },
    {
      "cell_type": "code",
      "execution_count": 77,
      "metadata": {
        "colab": {
          "base_uri": "https://localhost:8080/",
          "height": 295
        },
        "id": "wG73oszEec4Q",
        "outputId": "af25708e-5314-4e37-c5d5-d3d24807a524"
      },
      "outputs": [
        {
          "output_type": "display_data",
          "data": {
            "text/plain": [
              "<Figure size 432x288 with 1 Axes>"
            ],
            "image/png": "[encoded data removed]"
          },
          "metadata": {
            "needs_background": "light"
          }
        }
      ],
      "source": [
        "sb.pointplot(data=flight_dets, x='delay_time', y='UniqueCarrier', color=main_color, ci='sd', linestyles=\"\");\n",
        "plt.title(\"Average delays by Airlines\")\n",
        "plt.xlabel(\"Average delays (minutes)\")\n",
        "plt.ylabel(\"Carrier codes of airlines\");"
      ]
    },
    {
      "cell_type": "markdown",
      "source": [
        "## Observation\n",
        "\n",
        "Northwest Airlines Inc. (NW) have the most average delays, followed by AirTran Airways Corporation (FL), Frontier Airlines Inc. (F9). I will like to explore what the common cause of delay is for these three airlines"
      ],
      "metadata": {
        "id": "HKg0l5vTec4Q"
      }
    },
    {
      "cell_type": "markdown",
      "source": [
        "## Question: Do longer distances lead to longer delays?"
      ],
      "metadata": {
        "id": "4jAuFlbsefRL"
      }
    },
    {
      "cell_type": "markdown",
      "source": [
        "## Visualization"
      ],
      "metadata": {
        "id": "HoQ4XYvUefRL"
      }
    },
    {
      "cell_type": "code",
      "execution_count": 80,
      "metadata": {
        "colab": {
          "base_uri": "https://localhost:8080/",
          "height": 568
        },
        "id": "XtkivutxefRM",
        "outputId": "8accc808-0e71-49ab-b497-ddaf01749304"
      },
      "outputs": [
        {
          "output_type": "stream",
          "name": "stderr",
          "text": [
            "/usr/local/lib/python3.8/dist-packages/seaborn/_decorators.py:36: FutureWarning: Pass the following variables as keyword args: x, y. From version 0.12, the only valid positional argument will be `data`, and passing other arguments without an explicit keyword will result in an error or misinterpretation.\n",
            "  warnings.warn(\n"
          ]
        },
        {
          "output_type": "display_data",
          "data": {
            "text/plain": [
              "<Figure size 576x576 with 1 Axes>"
            ],
            "image/png": "[encoded data removed]"
          },
          "metadata": {
            "needs_background": "light"
          }
        }
      ],
      "source": [
        "# plotting the data\n",
        "plt.figure(figsize=[8,8])\n",
        "sample = np.random.choice(flight_dets.shape[0], 2000, replace=False)\n",
        "flight_samp = flight_dets.loc[sample, :]\n",
        "sb.regplot(flight_samp['Distance'], flight_samp['delay_time'], x_jitter=0.3, scatter_kws={'alpha':1/10}, ci=None);\n",
        "plt.title('Distance vs Delay')\n",
        "plt.xlabel('Distance (miles)')\n",
        "plt.ylabel(\"Delay (minutes)\");\n",
        "plt.show()"
      ]
    },
    {
      "cell_type": "markdown",
      "source": [
        "## Observation\n",
        "\n",
        "There is a slight negative correlation between delay and distance."
      ],
      "metadata": {
        "id": "ja23A3DBefRM"
      }
    },
    {
      "cell_type": "markdown",
      "source": [
        "## Question: Which delay causes caused longer delays?"
      ],
      "metadata": {
        "id": "MdtNBl8rej2S"
      }
    },
    {
      "cell_type": "markdown",
      "source": [
        "## Visualization"
      ],
      "metadata": {
        "id": "CHnrvFyPej2U"
      }
    },
    {
      "cell_type": "code",
      "source": [
        "variables = ['CarrierDelay', 'WeatherDelay', 'NASDelay', 'SecurityDelay', 'LateAircraftDelay']"
      ],
      "metadata": {
        "id": "IxuMXoDc7Mys"
      },
      "execution_count": null,
      "outputs": []
    },
    {
      "cell_type": "code",
      "execution_count": 84,
      "metadata": {
        "colab": {
          "base_uri": "https://localhost:8080/",
          "height": 513
        },
        "id": "hm05gRemej2V",
        "outputId": "cfc84917-6445-45ac-e3eb-3e9629439228"
      },
      "outputs": [
        {
          "output_type": "display_data",
          "data": {
            "text/plain": [
              "<Figure size 1080x576 with 5 Axes>"
            ],
            "image/png": "[encoded data removed]"
          },
          "metadata": {
            "needs_background": "light"
          }
        }
      ],
      "source": [
        "# sample 2000 flights so plots load faster\n",
        "sample = np.random.choice(flight_dets.shape[0], 2000, replace=False)\n",
        "flight_samp = flight_dets.loc[sample, :]\n",
        "\n",
        "x = 1\n",
        "plt.figure(figsize=[15,8])\n",
        "for _ in variables:\n",
        "  plt.subplot(1, 5, x)\n",
        "  sb.regplot(flight_samp[_], flight_samp['delay_time'], x_jitter=0.3, scatter_kws={'alpha':1/10}, ci=None);\n",
        "  x += 1"
      ]
    },
    {
      "cell_type": "markdown",
      "source": [
        "## Observation\n",
        "> Delay time shows a strong positive correlation wit NASDelay but a strong negative correlation with Carrier and Late Aircraft delays. There is a weak negative correlation between Delay time and Weather and Security delays"
      ],
      "metadata": {
        "id": "KHRBF4lKej2V"
      }
    },
    {
      "cell_type": "markdown",
      "metadata": {
        "id": "4ajzBjzeo1MT"
      },
      "source": [
        "### Talk about some of the relationships you observed in this part of the investigation. How did the feature(s) of interest vary with other features in the dataset?\n",
        "\n",
        "> Your answer here!\n",
        "\n",
        "### Did you observe any interesting relationships between the other features (not the main feature(s) of interest)?\n",
        "\n",
        "> Your answer here!"
      ]
    },
    {
      "cell_type": "markdown",
      "metadata": {
        "id": "FmtZHGN0o1MU"
      },
      "source": [
        "## Multivariate Exploration\n",
        "\n",
        "> Create plots of three or more variables to investigate your data even\n",
        "further. Make sure that your investigations are justified, and follow from\n",
        "your work in the previous sections."
      ]
    },
    {
      "cell_type": "markdown",
      "source": [
        "## Question:"
      ],
      "metadata": {
        "id": "8zbQXDujeoMH"
      }
    },
    {
      "cell_type": "markdown",
      "source": [
        "## Visualization"
      ],
      "metadata": {
        "id": "Gvt_hxuieoMI"
      }
    },
    {
      "cell_type": "code",
      "execution_count": null,
      "metadata": {
        "id": "doe30ChIeoMJ"
      },
      "outputs": [],
      "source": []
    },
    {
      "cell_type": "markdown",
      "source": [
        "## Observation"
      ],
      "metadata": {
        "id": "UV-cNqXjeoMK"
      }
    },
    {
      "cell_type": "code",
      "execution_count": null,
      "metadata": {
        "id": "vYm_rn9Qo1MU"
      },
      "outputs": [],
      "source": []
    },
    {
      "cell_type": "markdown",
      "source": [
        "## Question:"
      ],
      "metadata": {
        "id": "8Md7JEQpQ9pU"
      }
    },
    {
      "cell_type": "markdown",
      "source": [
        "## Visualization"
      ],
      "metadata": {
        "id": "IMKt2V4IQ9pV"
      }
    },
    {
      "cell_type": "code",
      "execution_count": null,
      "metadata": {
        "id": "eALvD5i9Q9pV"
      },
      "outputs": [],
      "source": []
    },
    {
      "cell_type": "markdown",
      "source": [
        "## Observation"
      ],
      "metadata": {
        "id": "1nV9bVO-Q9pV"
      }
    },
    {
      "cell_type": "markdown",
      "metadata": {
        "id": "I10mt4yGo1MU"
      },
      "source": [
        "### Talk about some of the relationships you observed in this part of the investigation. Were there features that strengthened each other in terms of looking at your feature(s) of interest?\n",
        "\n",
        "> Your answer here!\n",
        "\n",
        "### Were there any interesting or surprising interactions between features?\n",
        "\n",
        "> Your answer here!"
      ]
    },
    {
      "cell_type": "markdown",
      "metadata": {
        "id": "4Ly2JLNuo1MV"
      },
      "source": [
        "## Conclusions\n",
        ">You can write a summary of the main findings and reflect on the steps taken during the data exploration.\n"
      ]
    },
    {
      "cell_type": "markdown",
      "metadata": {
        "id": "IzXH_6zLo1MV"
      },
      "source": [
        "\n",
        "> Remove all Tips mentioned above, before you convert this notebook to PDF/HTML\n",
        "\n",
        "\n",
        "> At the end of your report, make sure that you export the notebook as an\n",
        "html file from the `File > Download as... > HTML or PDF` menu. Make sure you keep\n",
        "track of where the exported file goes, so you can put it in the same folder\n",
        "as this notebook for project submission. Also, make sure you remove all of\n",
        "the quote-formatted guide notes like this one before you finish your report!\n",
        "\n"
      ]
    },
    {
      "cell_type": "code",
      "execution_count": null,
      "metadata": {
        "id": "OhUc_CYxo1MV"
      },
      "outputs": [],
      "source": []
    }
  ],
  "metadata": {
    "kernelspec": {
      "display_name": "Python 3",
      "language": "python",
      "name": "python3"
    },
    "language_info": {
      "codemirror_mode": {
        "name": "ipython",
        "version": 3
      },
      "file_extension": ".py",
      "mimetype": "text/x-python",
      "name": "python",
      "nbconvert_exporter": "python",
      "pygments_lexer": "ipython3",
      "version": "3.6.3"
    },
    "colab": {
      "provenance": []
    }
  },
  "nbformat": 4,
  "nbformat_minor": 0
}